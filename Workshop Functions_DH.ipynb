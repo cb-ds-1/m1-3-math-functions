{
 "cells": [
  {
   "cell_type": "markdown",
   "metadata": {},
   "source": [
    "# Exercise 1: Math Drills"
   ]
  },
  {
   "cell_type": "markdown",
   "metadata": {},
   "source": [
    "## 1.1 Reflexive and symmetric, but not transitive"
   ]
  },
  {
   "cell_type": "markdown",
   "metadata": {},
   "source": [
    "R = {(a,a),(a,b),(b,b),(b,a),(c,c),(c,b),(b,c)}"
   ]
  },
  {
   "cell_type": "markdown",
   "metadata": {},
   "source": [
    "## 1.2 Reflexive, but neither symmetric nor transitive"
   ]
  },
  {
   "cell_type": "markdown",
   "metadata": {},
   "source": [
    "xRy iff x < y + 1"
   ]
  },
  {
   "cell_type": "markdown",
   "metadata": {},
   "source": [
    "## 1.3 Symmetric, but neither reflexive nor transitive"
   ]
  },
  {
   "cell_type": "markdown",
   "metadata": {},
   "source": [
    "xRy iff x - y is irrational"
   ]
  },
  {
   "cell_type": "markdown",
   "metadata": {},
   "source": [
    "## 1.4 Transitive, but neither reflexive nor symmetric"
   ]
  },
  {
   "cell_type": "markdown",
   "metadata": {},
   "source": [
    "xRy iff x < y and y < z"
   ]
  },
  {
   "cell_type": "markdown",
   "metadata": {},
   "source": [
    "# Exercise 2: A bunch of Math!"
   ]
  },
  {
   "cell_type": "markdown",
   "metadata": {},
   "source": [
    "## 2.1 Polynomial"
   ]
  },
  {
   "cell_type": "code",
   "execution_count": 37,
   "metadata": {},
   "outputs": [],
   "source": [
    "def p(x, coeff):\n",
    "    '''\n",
    "    This function computes the value given a point\n",
    "    x and a list of coefficients \"coeff\".\n",
    "    '''\n",
    "    res = 0\n",
    "    \n",
    "    for c in range(len(coeff)):\n",
    "        \n",
    "        if c==0:\n",
    "            res = res + coeff[c]\n",
    "        else:\n",
    "            res = res + x**c\n",
    "        \n",
    "    return res"
   ]
  },
  {
   "cell_type": "markdown",
   "metadata": {},
   "source": [
    "Check:"
   ]
  },
  {
   "cell_type": "code",
   "execution_count": 39,
   "metadata": {},
   "outputs": [
    {
     "data": {
      "text/plain": [
       "32"
      ]
     },
     "execution_count": 39,
     "metadata": {},
     "output_type": "execute_result"
    }
   ],
   "source": [
    "p(5, [2, 1, 1])"
   ]
  },
  {
   "cell_type": "markdown",
   "metadata": {},
   "source": [
    "## 2.1 Variance"
   ]
  },
  {
   "cell_type": "code",
   "execution_count": 41,
   "metadata": {},
   "outputs": [],
   "source": [
    "import numpy as np"
   ]
  },
  {
   "cell_type": "code",
   "execution_count": 57,
   "metadata": {},
   "outputs": [],
   "source": [
    "def avg(lst):\n",
    "    '''\n",
    "    This function takes a list of numbers and computes the average.\n",
    "    '''\n",
    "    total = 0\n",
    "    \n",
    "    for num in lst:\n",
    "        total = total + num\n",
    "        \n",
    "    return total / len(lst)"
   ]
  },
  {
   "cell_type": "code",
   "execution_count": 80,
   "metadata": {},
   "outputs": [],
   "source": [
    "def var(lst):\n",
    "    '''\n",
    "    This function takes a list of numbers and computes the variance.\n",
    "    '''\n",
    "    res = 0\n",
    "    \n",
    "    for num in lst:\n",
    "        res = res + (num - avg(lst))**2\n",
    "        \n",
    "    return (res/len(lst))\n",
    "        "
   ]
  },
  {
   "cell_type": "markdown",
   "metadata": {},
   "source": [
    "Check:"
   ]
  },
  {
   "cell_type": "code",
   "execution_count": 82,
   "metadata": {},
   "outputs": [
    {
     "data": {
      "text/plain": [
       "1.5555555555555554"
      ]
     },
     "execution_count": 82,
     "metadata": {},
     "output_type": "execute_result"
    }
   ],
   "source": [
    "var([1,2,4])"
   ]
  },
  {
   "cell_type": "code",
   "execution_count": 83,
   "metadata": {},
   "outputs": [
    {
     "data": {
      "text/plain": [
       "1.5555555555555554"
      ]
     },
     "execution_count": 83,
     "metadata": {},
     "output_type": "execute_result"
    }
   ],
   "source": [
    "np.var([1,2,4])"
   ]
  },
  {
   "cell_type": "markdown",
   "metadata": {},
   "source": [
    "## 2.2 RMSE"
   ]
  },
  {
   "cell_type": "code",
   "execution_count": 94,
   "metadata": {},
   "outputs": [],
   "source": [
    "import math"
   ]
  },
  {
   "cell_type": "code",
   "execution_count": 95,
   "metadata": {},
   "outputs": [],
   "source": [
    "def rmse(lst1, lst2):\n",
    "    '''\n",
    "    This function computes the RMSE of a machine\n",
    "    learning model's output.\n",
    "    '''\n",
    "    res = 0\n",
    "    \n",
    "    for i in range(len(lst1)):\n",
    "        res = res + (lst1[i] - lst2[i])**2\n",
    "    \n",
    "    return math.sqrt(res/len(lst1))"
   ]
  },
  {
   "cell_type": "code",
   "execution_count": 98,
   "metadata": {},
   "outputs": [
    {
     "data": {
      "text/plain": [
       "1.632993161855452"
      ]
     },
     "execution_count": 98,
     "metadata": {},
     "output_type": "execute_result"
    }
   ],
   "source": [
    "rmse([1, 2, 3], [3, 2, 1])"
   ]
  },
  {
   "cell_type": "code",
   "execution_count": 97,
   "metadata": {},
   "outputs": [
    {
     "data": {
      "text/plain": [
       "1.632993161855452"
      ]
     },
     "execution_count": 97,
     "metadata": {},
     "output_type": "execute_result"
    }
   ],
   "source": [
    "rmse([1, 2, 3], [3, 2, 1])"
   ]
  },
  {
   "cell_type": "markdown",
   "metadata": {},
   "source": [
    "# 2.3 Jaccard Similarity"
   ]
  },
  {
   "cell_type": "code",
   "execution_count": 108,
   "metadata": {},
   "outputs": [],
   "source": [
    "def jaccard(set1, set2):\n",
    "    '''\n",
    "    This function computes the Jaccard similarity between two sets.\n",
    "    '''\n",
    "    i = set1.intersection(set2)\n",
    "    u = set1.union(set2)\n",
    "    \n",
    "    return (len(i) / len(u))"
   ]
  },
  {
   "cell_type": "code",
   "execution_count": 109,
   "metadata": {},
   "outputs": [
    {
     "data": {
      "text/plain": [
       "0.25"
      ]
     },
     "execution_count": 109,
     "metadata": {},
     "output_type": "execute_result"
    }
   ],
   "source": [
    "jaccard({'a', 'b', 'c'}, {'a', 'd'})"
   ]
  },
  {
   "cell_type": "markdown",
   "metadata": {},
   "source": [
    "# Exercise 3"
   ]
  },
  {
   "cell_type": "code",
   "execution_count": 115,
   "metadata": {},
   "outputs": [],
   "source": [
    "import numpy as np\n",
    "from numpy.random import uniform"
   ]
  },
  {
   "cell_type": "code",
   "execution_count": 128,
   "metadata": {},
   "outputs": [],
   "source": [
    "def pay_up1(k):\n",
    "    '''\n",
    "    This function calculates how much to pay in the first random device.\n",
    "    '''\n",
    "    pay = 0 #amount to pay up\n",
    "    heads = 0 #number of consecutive heads\n",
    "    \n",
    "    for i in range(1,11):\n",
    "    \n",
    "        rand=np.random.uniform(0,1)\n",
    "        \n",
    "        #heads\n",
    "        if (rand < 0.5):\n",
    "            flip = 0\n",
    "        #tails\n",
    "        else:\n",
    "            flip=1\n",
    "    \n",
    "        if (flip == 0): #heads\n",
    "            heads = heads + 1\n",
    "        else: #tails\n",
    "            heads = 0\n",
    "            \n",
    "        if (heads >= k):\n",
    "            pay = 1\n",
    "    \n",
    "    return pay"
   ]
  },
  {
   "cell_type": "code",
   "execution_count": 139,
   "metadata": {},
   "outputs": [],
   "source": [
    "def pay_up2(k):\n",
    "    '''\n",
    "    This function calculates how much to pay in the second random device.\n",
    "    '''\n",
    "    pay = 0 #amount to pay up\n",
    "    heads = 0 #total number of heads\n",
    "    \n",
    "    for i in range(1,11):\n",
    "    \n",
    "        rand=np.random.uniform(0,1)\n",
    "        \n",
    "        #heads\n",
    "        if (rand < 0.5):\n",
    "            flip = 0\n",
    "        #tails\n",
    "        else:\n",
    "            flip=1\n",
    "    \n",
    "        if (flip == 0): #heads\n",
    "            heads = heads + 1\n",
    "        else: #tails\n",
    "            heads = heads\n",
    "            \n",
    "        if (heads >= k):\n",
    "            pay = 1\n",
    "    \n",
    "    return pay"
   ]
  },
  {
   "cell_type": "markdown",
   "metadata": {},
   "source": [
    "# Exercise 4: Logistic Map fixed point"
   ]
  },
  {
   "cell_type": "code",
   "execution_count": 174,
   "metadata": {},
   "outputs": [],
   "source": [
    "f = lambda x, r: r * x * (1-x)"
   ]
  },
  {
   "cell_type": "code",
   "execution_count": 175,
   "metadata": {},
   "outputs": [],
   "source": [
    "def logistic_n_times(x0, f, r, n):\n",
    "    '''\n",
    "    This function applies the Logistic Map n times.\n",
    "    '''\n",
    "    x = x0\n",
    "    \n",
    "    for i in range(n):\n",
    "        x = f(x,r)\n",
    "    return x\n",
    "    "
   ]
  },
  {
   "cell_type": "markdown",
   "metadata": {},
   "source": [
    "Checks:"
   ]
  },
  {
   "cell_type": "code",
   "execution_count": 197,
   "metadata": {},
   "outputs": [
    {
     "data": {
      "text/plain": [
       "0.5"
      ]
     },
     "execution_count": 197,
     "metadata": {},
     "output_type": "execute_result"
    }
   ],
   "source": [
    "logistic_n_times(0.25, f, 2, 10)"
   ]
  },
  {
   "cell_type": "code",
   "execution_count": 198,
   "metadata": {},
   "outputs": [
    {
     "data": {
      "text/plain": [
       "0.6025729979246489"
      ]
     },
     "execution_count": 198,
     "metadata": {},
     "output_type": "execute_result"
    }
   ],
   "source": [
    "logistic_n_times(0.5, f, 3, 10)"
   ]
  },
  {
   "cell_type": "markdown",
   "metadata": {},
   "source": [
    "$$f(x) = rx(1-x) = x$$"
   ]
  },
  {
   "cell_type": "markdown",
   "metadata": {},
   "source": [
    "$$x[1-r(1-x)] = x(1-r+rx) = rx[x-(1-r^{-1}] = 0$$"
   ]
  },
  {
   "cell_type": "markdown",
   "metadata": {},
   "source": [
    "The fixed points are therefore x1 = 0 and:"
   ]
  },
  {
   "cell_type": "markdown",
   "metadata": {},
   "source": [
    "$$x2 = 1 - r^{-1}$$"
   ]
  },
  {
   "cell_type": "markdown",
   "metadata": {},
   "source": [
    "The fixed point occurs at r = 1."
   ]
  },
  {
   "cell_type": "markdown",
   "metadata": {},
   "source": [
    "$$df/dx = r(1-2x)$$"
   ]
  },
  {
   "cell_type": "markdown",
   "metadata": {},
   "source": [
    "The function is an attractor for u < 1 and 1 < u < 3."
   ]
  },
  {
   "cell_type": "code",
   "execution_count": null,
   "metadata": {},
   "outputs": [],
   "source": []
  }
 ],
 "metadata": {
  "kernelspec": {
   "display_name": "Python 3",
   "language": "python",
   "name": "python3"
  },
  "language_info": {
   "codemirror_mode": {
    "name": "ipython",
    "version": 3
   },
   "file_extension": ".py",
   "mimetype": "text/x-python",
   "name": "python",
   "nbconvert_exporter": "python",
   "pygments_lexer": "ipython3",
   "version": "3.7.6"
  }
 },
 "nbformat": 4,
 "nbformat_minor": 4
}
