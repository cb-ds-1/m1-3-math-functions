{
 "cells": [
  {
   "cell_type": "markdown",
   "metadata": {
    "colab_type": "text",
    "id": "aX9oCHrXqhIj"
   },
   "source": [
    "# 1. Math Drills\n",
    "\n",
    "Give an example of a binary relation on a set which is\n",
    "\n",
    "1. Reflexive and symmetric, but not transitive  \n",
    "2. Reflexive, but neither symmetric nor transitive  \n",
    "3. Symmetric, but neither reflexive nor transitive  \n",
    "4. Transitive, but neither reflexive nor symmetric  \n",
    "\n",
    "Recall the definitions from the lectures if you need to!"
   ]
  },
  {
   "cell_type": "markdown",
   "metadata": {},
   "source": [
    "1) Reflexive and symmetric, but not transitive\n",
    "\n",
    "Set = {1, 2, 3}\n",
    "\n",
    "- Relation = {(1, 1),(1, 2),(2, 1),(2, 2),(3, 3),(2, 3),(3, 2)}\n",
    "\n",
    "2) Reflexive, but neither symmetric not transitive\n",
    "\n",
    "Set = {a, b, c, d} \n",
    "\n",
    "- Relation = {(a, a), (a, c), (b, b), (b, b), (c, c), (c, d), (d, d)}\n",
    "\n",
    "3) Symmetric, but neither reflexive nor transitive\n",
    "\n",
    "Set = {1, 2, 3}\n",
    "\n",
    "- Relation = {(1, 2), (2, 1), (2, 3), (3, 2)}\n",
    "\n",
    "4) Transitive, but neither refelxive nor symmetric\n",
    "\n",
    "Set = {a, b, c}\n",
    "\n",
    "- Relation = {(a, b), (b, c), (a, c)}"
   ]
  },
  {
   "cell_type": "markdown",
   "metadata": {},
   "source": [
    "# Exercise 2: A bunch of Math!\n",
    "\n",
    "## 2.0 Polynomial\n",
    "\n",
    "Consider the polynomial\n",
    "\n",
    "$$\n",
    "p(x)\n",
    "= a_0 + a_1 x + a_2 x^2 + \\cdots a_n x^n\n",
    "= \\sum_{i=0}^n a_i x^i \\tag{1}\n",
    "$$\n",
    "\n",
    "Write a function `p` such that `p(x, coeff)` that computes the value in given a point `x` and a list of coefficients `coeff`.\n",
    "\n",
    "```\n",
    "p(5, [1, 1]) = 1 + 5 = 6\n",
    "p(5, [2, 1, 1]) = 2 + 5 + 25 = 31\n",
    "```"
   ]
  },
  {
   "cell_type": "code",
   "execution_count": 6,
   "metadata": {},
   "outputs": [
    {
     "data": {
      "text/plain": [
       "32"
      ]
     },
     "execution_count": 6,
     "metadata": {},
     "output_type": "execute_result"
    }
   ],
   "source": [
    "def p(x, coeff):\n",
    "    '''\n",
    "    Create new variable n and keep adding 1 to it as the exponents increase, while a count variable does the polynomial math\n",
    "    '''\n",
    "    n = 0\n",
    "    count = 0\n",
    "    for i in coeff:\n",
    "        count = count + (i * (x**n))\n",
    "        n += 1\n",
    "    return count\n",
    "\n",
    "p(5, [2, 1, 1])"
   ]
  },
  {
   "cell_type": "markdown",
   "metadata": {},
   "source": [
    "# 2.1 Variance\n",
    "\n",
    "Define a function named `var` that takes a list of numbers and computes the variance. The variance is:\n",
    "\n",
    "$$variance(x) = ∑_i(x_i − average(x))^2$$\n",
    "\n",
    "Don't cheat and use `numpy.var`! You should only use that function to test that your function is correct"
   ]
  },
  {
   "cell_type": "code",
   "execution_count": 21,
   "metadata": {},
   "outputs": [
    {
     "data": {
      "text/plain": [
       "21704.0"
      ]
     },
     "execution_count": 21,
     "metadata": {},
     "output_type": "execute_result"
    }
   ],
   "source": [
    "def var(x):\n",
    "    '''\n",
    "    - Calculate the mean\n",
    "    - Then for each number in x, subtract the mean and then square the result\n",
    "        - Create an empty list z and append the squared differences to z\n",
    "    - Then return the average of the squared differences\n",
    "    '''\n",
    "    mean = sum(x)/len(x)\n",
    "    z = []\n",
    "    for i in x:\n",
    "        z.append((i - mean)**2)\n",
    "    return sum(z)/len(x)\n",
    "\n",
    "\n",
    "x = [600, 470, 170, 430, 300]\n",
    "var(x)"
   ]
  },
  {
   "cell_type": "code",
   "execution_count": 22,
   "metadata": {},
   "outputs": [
    {
     "data": {
      "text/plain": [
       "21704.0"
      ]
     },
     "execution_count": 22,
     "metadata": {},
     "output_type": "execute_result"
    }
   ],
   "source": [
    "import numpy as np\n",
    "x = [600, 470, 170, 430, 300]\n",
    "np.var(x)"
   ]
  },
  {
   "cell_type": "markdown",
   "metadata": {},
   "source": [
    "# 2.2 RMSE\n",
    "\n",
    "Calculate the root mean squared error (RMSE) of a machine learning model's output. The function takes in two lists: one with actual values, one with predictions. The formula for RMSE is:\n",
    "\n",
    "$$RMSE(y_1, y_2) = \\sqrt{\\dfrac{1}{N} \\sum_{i=1}^N (y_{1i} - y_{2i})^2}$$\n",
    "\n",
    "```\n",
    "    rmse([1, 2], [1, 2]) = 0\n",
    "    rmse([1, 2, 3], [3, 2, 1]) = 1.63\n",
    "```\n",
    "\n",
    "You can use \n",
    "\n",
    "```\n",
    "sklearn.metrics.mean_squared_error(y_actual, y_predicted, squared=False)\n",
    "```\n",
    "\n",
    "To test your function"
   ]
  },
  {
   "cell_type": "code",
   "execution_count": 43,
   "metadata": {},
   "outputs": [
    {
     "data": {
      "text/plain": [
       "1.632993161855452"
      ]
     },
     "execution_count": 43,
     "metadata": {},
     "output_type": "execute_result"
    }
   ],
   "source": [
    "import math\n",
    "\n",
    "def rmse(x, y):\n",
    "    '''\n",
    "    - Square the residuals\n",
    "    - Find the average of the residuals\n",
    "    - Take the square root of the result\n",
    "    '''\n",
    "    z = []\n",
    "    zipped = zip(x,y)\n",
    "    for x, y in zipped:\n",
    "        z.append((x - y) ** 2)\n",
    "        \n",
    "    mean = sum(z)/len(z)\n",
    "    \n",
    "    return (math.sqrt(mean))\n",
    "\n",
    "rmse([1, 2, 3], [3, 2, 1])"
   ]
  },
  {
   "cell_type": "code",
   "execution_count": 47,
   "metadata": {},
   "outputs": [
    {
     "data": {
      "text/plain": [
       "1.632993161855452"
      ]
     },
     "execution_count": 47,
     "metadata": {},
     "output_type": "execute_result"
    }
   ],
   "source": [
    "from sklearn import metrics\n",
    "\n",
    "sklearn.metrics.mean_squared_error([1,2,3], [3,2,1], squared=False)"
   ]
  },
  {
   "cell_type": "markdown",
   "metadata": {},
   "source": [
    "# 2.3 Jaccard Similarity\n",
    "\n",
    "The Jaccard similarity between two sets is the size of intersection divided by the size of union. Write a function that computes it:\n",
    "\n",
    "$$jaccard(A, B) = \\dfrac{|A \\cap B|}{|A \\cup B|}$$\n",
    "\n",
    "\n",
    "```\n",
    "jaccard({'a', 'b', 'c'}, {'a', 'd'}) = 1 / 4\n",
    "```\n",
    "\n"
   ]
  },
  {
   "cell_type": "code",
   "execution_count": 52,
   "metadata": {},
   "outputs": [
    {
     "data": {
      "text/plain": [
       "0.25"
      ]
     },
     "execution_count": 52,
     "metadata": {},
     "output_type": "execute_result"
    }
   ],
   "source": [
    "def jaccard(x, y):\n",
    "    '''\n",
    "    Divide len(intersection) by len(union)\n",
    "    '''\n",
    "    intersection = x.intersection(y)\n",
    "    union = x.union(y)\n",
    "    \n",
    "    return len(intersection)/len(union)\n",
    "\n",
    "jaccard({'a', 'b', 'c'}, {'a', 'd'})"
   ]
  },
  {
   "cell_type": "markdown",
   "metadata": {},
   "source": [
    "# Exercise 3\n",
    "\n",
    "First, write a function that returns one realization of the following random device\n",
    "\n",
    "1. Flip an unbiased coin 10 times.  \n",
    "1. If a head occurs `k` or more times consecutively within this sequence at least once, pay one dollar.  \n",
    "1. If not, pay nothing.  \n",
    "\n",
    "\n",
    "Second, write another function that does the same task except that the second rule of the above random device becomes\n",
    "\n",
    "- If a head occurs `k` or more times within this sequence, pay one dollar.  \n",
    "\n",
    "\n",
    "Use no import besides `from numpy.random import uniform`."
   ]
  },
  {
   "cell_type": "code",
   "execution_count": 63,
   "metadata": {},
   "outputs": [
    {
     "data": {
      "text/plain": [
       "0"
      ]
     },
     "execution_count": 63,
     "metadata": {},
     "output_type": "execute_result"
    }
   ],
   "source": [
    "from numpy.random import uniform\n",
    "\n",
    "#First function\n",
    "\n",
    "def coin_flip(x):\n",
    "    '''\n",
    "    - Set counter equal 0 and add to it whenever count = x, which can only happen if u (using np.uniform) < 0.5\n",
    "    '''\n",
    "    paid = 0\n",
    "    count = 0\n",
    "    for i in range(x):\n",
    "        u = np.random.uniform()\n",
    "        count += 1 if u < 0.5 else 0\n",
    "        if count == x:\n",
    "            paid += 1\n",
    "            \n",
    "    return paid\n",
    "\n",
    "coin_flip(10)"
   ]
  },
  {
   "cell_type": "code",
   "execution_count": 94,
   "metadata": {},
   "outputs": [
    {
     "data": {
      "text/plain": [
       "0"
      ]
     },
     "execution_count": 94,
     "metadata": {},
     "output_type": "execute_result"
    }
   ],
   "source": [
    "#Second function\n",
    "\n",
    "def coin_flip2(x):\n",
    "    paid = 0\n",
    "    count = 0\n",
    "    for i in range(x):\n",
    "        u = np.random.uniform()\n",
    "        count = count + (1 if u < 0.5 else 0)\n",
    "        if count == x:\n",
    "            paid += 1\n",
    "            \n",
    "    return paid\n",
    "\n",
    "coin_flip2(10)"
   ]
  },
  {
   "cell_type": "markdown",
   "metadata": {},
   "source": [
    "# Exercise 4: Logistic Map fixed point\n",
    "\n",
    "The **Logistic Map** is a famous function from Chaos Theory which is defined as:\n",
    "\n",
    "$$x_{t+1} = r \\cdot x_t(1−x_t)$$\n",
    "\n",
    "with the conditions:\n",
    "\n",
    "$$x_0 ∈ [0,1], r ∈[0,4]$$\n",
    "\n",
    "Write a lambda $logistic(x, r)$, that's successively applied to itself through a second function `logistic_n_times(x0, f, r, n)`\n",
    "\n",
    "Make a few runs of this for various values of `x0` and `r`. Answer the following:\n",
    "\n",
    "- Can you find a fixed point? \n",
    "\n",
    "- At what values of `r` are there fixed points? \n",
    "\n",
    "- Are there any ranges of input for which the function is an attractor?"
   ]
  },
  {
   "cell_type": "code",
   "execution_count": 6,
   "metadata": {},
   "outputs": [],
   "source": [
    "import numpy as np\n",
    "#Lamda logistic function\n",
    "f = lambda x, r: r * x * (1 - x)\n",
    "\n",
    "#Defining logistic n times function\n",
    "def logistic_n_times(x0, f, r, n):\n",
    "    for i in range(n):\n",
    "        x0 = f(x0, r)\n",
    "    print(x0)\n",
    "    return x0\n",
    "\n",
    "#Fixed points at 0 and 0.5\n",
    "#Fixed poinits when r = 0 and r = 2"
   ]
  },
  {
   "cell_type": "code",
   "execution_count": 7,
   "metadata": {},
   "outputs": [
    {
     "name": "stdout",
     "output_type": "stream",
     "text": [
      "0\n",
      "0\n",
      "0.6108732301324811\n",
      "0.6108732301324811\n",
      "0.7214025477865863\n",
      "0.7214025477865863\n",
      "0.6968966829892789\n",
      "0.6968966829892789\n",
      "0.6169344141830806\n",
      "0.6169344141830806\n",
      "0.6025729979246489\n",
      "0.6025729979246489\n",
      "0.6169344141830806\n",
      "0.6169344141830806\n",
      "0.6968966829892789\n",
      "0.6968966829892789\n",
      "0.7214025477865863\n",
      "0.7214025477865863\n",
      "0.6108732301324807\n",
      "0.6108732301324807\n"
     ]
    }
   ],
   "source": [
    "print((logistic_n_times(0, f, 3, 10)))\n",
    "print((logistic_n_times(0.1, f, 3, 10)))\n",
    "print((logistic_n_times(0.2, f, 3, 10)))\n",
    "print((logistic_n_times(0.3, f, 3, 10)))\n",
    "print((logistic_n_times(0.4, f, 3, 10)))\n",
    "print((logistic_n_times(0.5, f, 3, 10)))\n",
    "print((logistic_n_times(0.6, f, 3, 10)))\n",
    "print((logistic_n_times(0.7, f, 3, 10)))\n",
    "print((logistic_n_times(0.8, f, 3, 10)))\n",
    "print((logistic_n_times(0.9, f, 3, 10)))\n",
    "#No fixed points"
   ]
  },
  {
   "cell_type": "code",
   "execution_count": 8,
   "metadata": {},
   "outputs": [
    {
     "name": "stdout",
     "output_type": "stream",
     "text": [
      "0\n",
      "0\n",
      "0.5\n",
      "0.5\n",
      "0.49999999999999994\n",
      "0.49999999999999994\n",
      "0.49999999999999994\n",
      "0.49999999999999994\n",
      "0.5\n",
      "0.5\n",
      "0.5\n",
      "0.5\n",
      "0.5\n",
      "0.5\n",
      "0.49999999999999994\n",
      "0.49999999999999994\n",
      "0.5\n",
      "0.5\n",
      "0.5\n",
      "0.5\n"
     ]
    }
   ],
   "source": [
    "print((logistic_n_times(0, f, 2, 10)))\n",
    "print((logistic_n_times(0.1, f, 2, 10)))\n",
    "print((logistic_n_times(0.2, f, 2, 10)))\n",
    "print((logistic_n_times(0.3, f, 2, 10)))\n",
    "print((logistic_n_times(0.4, f, 2, 10)))\n",
    "print((logistic_n_times(0.5, f, 2, 10)))\n",
    "print((logistic_n_times(0.6, f, 2, 10)))\n",
    "print((logistic_n_times(0.7, f, 2, 10)))\n",
    "print((logistic_n_times(0.8, f, 2, 10)))\n",
    "print((logistic_n_times(0.9, f, 2, 10)))\n",
    "\n",
    "#Can see fixed points at r = 2, same for r = 0"
   ]
  },
  {
   "cell_type": "markdown",
   "metadata": {},
   "source": [
    "# Exercise 5 (stretch): Famous Chaos Theory Plot \n",
    "\n",
    "There is a famous plot in chaos theory of the logistic map that relates values of the attractors in $x_t$ for values of $r$, detailing where the function tends to \"end up\" for each value of $r$.\n",
    "\n",
    "<img src=\"logistic map.png\" style=\"width: 400px;\">\n",
    "\n",
    "Reproduce this plot using the `matplotlib` package.\n",
    "\n",
    "**Hint:** Produce samples from the function to fill arrays on the x and y axis!\n",
    "\n",
    "**Hint:** Take the final 50 values in a series of data points produced by the function!"
   ]
  },
  {
   "cell_type": "code",
   "execution_count": 41,
   "metadata": {},
   "outputs": [
    {
     "data": {
      "image/png": "[encoded data removed]",
      "text/plain": [
       "<Figure size 432x288 with 1 Axes>"
      ]
     },
     "metadata": {
      "needs_background": "light"
     },
     "output_type": "display_data"
    }
   ],
   "source": [
    "#https://youtu.be/1ApX-OHGOdw?list=LL\n",
    "\n",
    "'''\n",
    "- For each value of r, plot the unique values for the last 50 values of x. \n",
    "- Use for loop to loop over the values of n and then use another for loop outside to loop over all values of r\n",
    "'''\n",
    "import numpy as np\n",
    "import matplotlib.pyplot as plt\n",
    "\n",
    "N = 500\n",
    "x = 0.5 + np.zeros(N)\n",
    "R = np.linspace(1, 4, 1000)\n",
    "last50 = np.arange(int(N* 0.9), N) #to plot the last 50 \n",
    "\n",
    "for i in range(len(R)):\n",
    "    for n in range(N - 1):\n",
    "        x[n+1] = R[i] * x[n]* (1- x[n])\n",
    "    \n",
    "    u = np.unique(x[last50]) #use np.unique to get rid of repeated values\n",
    "    r = R[i] * np.ones(len(u)) #need a repitition of r\n",
    "    plt.plot(r, u, '.', markersize = 0.5)\n",
    "    \n",
    "plt.show()\n",
    "        "
   ]
  }
 ],
 "metadata": {
  "colab": {
   "authorship_tag": "ABX9TyO6ouX4mUPsrtNoh84NFVy3",
   "collapsed_sections": [],
   "name": "Workshop Functions.ipynb",
   "provenance": []
  },
  "kernelspec": {
   "display_name": "Python 3",
   "language": "python",
   "name": "python3"
  },
  "language_info": {
   "codemirror_mode": {
    "name": "ipython",
    "version": 3
   },
   "file_extension": ".py",
   "mimetype": "text/x-python",
   "name": "python",
   "nbconvert_exporter": "python",
   "pygments_lexer": "ipython3",
   "version": "3.8.3"
  }
 },
 "nbformat": 4,
 "nbformat_minor": 1
}
