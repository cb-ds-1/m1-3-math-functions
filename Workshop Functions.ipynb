{
 "cells": [
  {
   "cell_type": "markdown",
   "metadata": {
    "colab_type": "text",
    "id": "aX9oCHrXqhIj"
   },
   "source": [
    "# 1. Math Drills\n",
    "\n",
    "Give an example of a binary relation on a set which is\n",
    "\n",
    "1. Reflexive and symmetric, but not transitive  \n",
    "2. Reflexive, but neither symmetric nor transitive  \n",
    "3. Symmetric, but neither reflexive nor transitive  \n",
    "4. Transitive, but neither reflexive nor symmetric  \n",
    "\n",
    "Recall the definitions from the lectures if you need to!"
   ]
  },
  {
   "cell_type": "code",
   "execution_count": null,
   "metadata": {},
   "outputs": [],
   "source": [
    "# Exercise 1.1 REFLEXIVE AND SYMMETRIC, BUT NOT TRANSITIVE\n",
    "'''\n",
    "domain = {a, b, c, d}\n",
    "co_domain = {a, b, c, d}\n",
    "list_of_mappings = [(a,a), (b,b), (c,c), (d,d), (a,c), (c,a), (c,d), (d,c)]\n",
    "\n",
    "Reflexive: in \"list_of_mappings\", all elements in set \"domain\" map to themselves in set \"co_domain\"\n",
    "Symmetric: in \"list_of_mappings\",a maps to c (a,c), and c maps to a (c,a)\n",
    "Symmetric: in list_of_mappings, c maps to d (c,d), and d maps to c (d,c)\n",
    "Not transitive: in list_of_mappings, a maps to c (a,c), and c maps to d (c,d), but there's no shortcut a to d (a,d)\n",
    "'''"
   ]
  },
  {
   "cell_type": "code",
   "execution_count": null,
   "metadata": {},
   "outputs": [],
   "source": [
    "# Exercise 1.2 REFLEXIVE, BUT NEITHER SYMMETRIC NOR TRANSITIVE\n",
    "'''\n",
    "domain = {a, b, c, d}\n",
    "co_domain = {a, b, c, d}\n",
    "list_of_mappings = [(a,a), (b,b), (c,c), (d,d), (a,c), (c,d)]\n",
    "\n",
    "\n",
    "Reflexive: in \"list_of_mappings\", all elements in set \"domain\" map to themselves in set \"co_domain\"\n",
    "Not symmetric: in list_of_mappings, a maps to c (a,c), but there's no c maps to a (c,a)\n",
    "Not transitive: in list_of_mappings, a maps to c (a,c), and c maps to d (c,d), but there's no shortcut a to d (a,d)\n",
    "\n",
    "'''"
   ]
  },
  {
   "cell_type": "code",
   "execution_count": null,
   "metadata": {},
   "outputs": [],
   "source": [
    "# Exercise 1.3 SYMMETRIC, BUT NEITHER REFLEXIVE NOR TRANSITIVE\n",
    "'''\n",
    "domain = {a, b, c, d}\n",
    "co_domain = {a, b, c, d}\n",
    "list_of_mappings = [(a,b), (b,a), (c,d), (d,c)]\n",
    "\n",
    "Symmetric: in list_of_mappings, a maps to b (a,b), and b maps to a (b,a)\n",
    "Symmetric: in list_of_mappings, c maps to d (c,d), and d maps to c (d,c)\n",
    "Not reflexive: in list_of_mappings, all elements in set domain don't maps to themselves\n",
    "Not transitive: in list_of_mappings, a maps to b (a,b), and b maps to a (b,a), but there's no shortcut a to a (a,a)\n",
    "'''"
   ]
  },
  {
   "cell_type": "code",
   "execution_count": null,
   "metadata": {},
   "outputs": [],
   "source": [
    "# Exercise 1.4 TRANSITIVE, BUT NEITHER REFLEXIVE NOR SYMMETRIC\n",
    "'''\n",
    "domain = {a, b, c, d}\n",
    "co_domain = {a, b, c, d}\n",
    "list_of_mappings = [(a,a), (b,b), (d,d), (d,b), (b,a), (d,a), (a,b)]\n",
    "\n",
    "\n",
    "Transitive: in list_of_mappings, all mappings have a shotcut equivalent!\n",
    "Not reflexive: in list_of_mappings, all elements in set domain don't maps to themselves\n",
    "Not symmetric: in list_of_mappings d maps to b (d,b), but there's no b maps to d (b,d)\n",
    "\n",
    "'''"
   ]
  },
  {
   "cell_type": "markdown",
   "metadata": {},
   "source": [
    "# Exercise 2: A bunch of Math!\n",
    "\n",
    "## 2.0 Polynomial\n",
    "\n",
    "Consider the polynomial\n",
    "\n",
    "$$\n",
    "p(x)\n",
    "= a_0 + a_1 x + a_2 x^2 + \\cdots a_n x^n\n",
    "= \\sum_{i=0}^n a_i x^i \\tag{1}\n",
    "$$\n",
    "\n",
    "Write a function `p` such that `p(x, coeff)` that computes the value in given a point `x` and a list of coefficients `coeff`.\n",
    "\n",
    "```\n",
    "p(5, [1, 1]) = 1 + 5 = 6\n",
    "p(5, [2, 1, 1]) = 2 + 5 + 25 = 31\n",
    "```"
   ]
  },
  {
   "cell_type": "code",
   "execution_count": 1,
   "metadata": {},
   "outputs": [
    {
     "data": {
      "text/plain": [
       "32"
      ]
     },
     "execution_count": 1,
     "metadata": {},
     "output_type": "execute_result"
    }
   ],
   "source": [
    "# Exercise 2.0 POLYNOMIAL FUNCTION\n",
    "def p(x, coeff):\n",
    "    each_coeff = []\n",
    "    total_nomials = []\n",
    "    each_coeff = coeff\n",
    "    for index, value in enumerate(each_coeff):\n",
    "        nomial = value * x ** index\n",
    "        total_nomials.append(nomial)\n",
    "    return sum(total_nomials)\n",
    "\n",
    "p(5, [2, 1, 1]) # output should be 32"
   ]
  },
  {
   "cell_type": "markdown",
   "metadata": {},
   "source": [
    "# 2.1 Variance\n",
    "\n",
    "Define a function named `var` that takes a list of numbers and computes the variance. The variance is:\n",
    "\n",
    "$$variance(x) = ∑_i(x_i − average(x))^2$$\n",
    "\n",
    "Don't cheat and use `numpy.var`! You should only use that function to test that your function is correct"
   ]
  },
  {
   "cell_type": "code",
   "execution_count": 4,
   "metadata": {},
   "outputs": [
    {
     "data": {
      "text/plain": [
       "1.0833333333333333"
      ]
     },
     "execution_count": 4,
     "metadata": {},
     "output_type": "execute_result"
    }
   ],
   "source": [
    "# Exercise 2.1 VARIANCE\n",
    "\"\"\"\"\"\"\n",
    "List of examples inputed into function is from Khan Academy\n",
    "https://www.khanacademy.org/math/ap-statistics/summarizing-quantitative-data-ap/measuring-spread-quantitative/v/sample-variance\n",
    "\n",
    "\"\"\"\"\"\"\n",
    "    def var(a_list):\n",
    "    observation = []\n",
    "    mean = float(sum(a_list)) / max(len(a_list), 1)\n",
    "    n = len(a_list)\n",
    "    for i in a_list:\n",
    "        observation.append((i-mean)**2)\n",
    "    return sum(observation)/n\n",
    "\n",
    "var([1.5, 4, 1, 2.5, 2, 1]) # output should be 1.0833333333333333"
   ]
  },
  {
   "cell_type": "markdown",
   "metadata": {},
   "source": [
    "# 2.2 RMSE\n",
    "\n",
    "Calculate the root mean squared error (RMSE) of a machine learning model's output. The function takes in two lists: one with actual values, one with predictions. The formula for RMSE is:\n",
    "\n",
    "$$RMSE(y_1, y_2) = \\sqrt{\\dfrac{1}{N} \\sum_{i=1}^N (y_{1i} - y_{2i})^2}$$\n",
    "\n",
    "```\n",
    "    rmse([1, 2], [1, 2]) = 0\n",
    "    rmse([1, 2, 3], [3, 2, 1]) = 1.63\n",
    "```\n",
    "\n",
    "You can use \n",
    "\n",
    "```\n",
    "sklearn.metrics.mean_squared_error(y_actual, y_predicted, squared=False)\n",
    "```\n",
    "\n",
    "To test your function"
   ]
  },
  {
   "cell_type": "code",
   "execution_count": 2,
   "metadata": {},
   "outputs": [
    {
     "data": {
      "text/plain": [
       "0.2720294101747089"
      ]
     },
     "execution_count": 2,
     "metadata": {},
     "output_type": "execute_result"
    }
   ],
   "source": [
    "# Exercise 2.3 RMSE\n",
    "def rmse(actual, prediction):\n",
    "    N = len(actual)\n",
    "    differences = [actual_i - prediction_i for actual_i, prediction_i in zip(actual, prediction)]\n",
    "    squared_numbers = [difference ** 2 for difference in differences]\n",
    "    return (sum(squared_numbers)/N)**0.5\n",
    "  \n",
    "rmse([0, 1, 2, 0, 3], [0.1, 1.3, 2.1, 0.5, 3.1]) # output should be 0.2720294101747089"
   ]
  },
  {
   "cell_type": "markdown",
   "metadata": {},
   "source": [
    "# 2.3 Jaccard Similarity\n",
    "\n",
    "The Jaccard similarity between two sets is the size of intersection divided by the size of union. Write a function that computes it:\n",
    "\n",
    "$$jaccard(A, B) = \\dfrac{|A \\cap B|}{|A \\cup B|}$$\n",
    "\n",
    "\n",
    "```\n",
    "jaccard({'a', 'b', 'c'}, {'a', 'd'}) = 1 / 4\n",
    "```\n",
    "\n"
   ]
  },
  {
   "cell_type": "code",
   "execution_count": 5,
   "metadata": {},
   "outputs": [
    {
     "name": "stdout",
     "output_type": "stream",
     "text": [
      "1/4\n"
     ]
    }
   ],
   "source": [
    "# Exercise 2.3 JACCARD SIMILARITY\n",
    "def jaccard(A, B):\n",
    "    num = len(A.intersection(B))\n",
    "    den = len(A.union(B))\n",
    "    # to return as a fraction\n",
    "    return print(f\"{num}/{den}\")\n",
    "\n",
    "jaccard({'a', 'b', 'c'}, {'a', 'd'}) # output should be 1/4"
   ]
  },
  {
   "cell_type": "markdown",
   "metadata": {},
   "source": [
    "# Exercise 3\n",
    "\n",
    "First, write a function that returns one realization of the following random device\n",
    "\n",
    "1. Flip an unbiased coin 10 times.  \n",
    "1. If a head occurs `k` or more times consecutively within this sequence at least once, pay one dollar.  \n",
    "1. If not, pay nothing.  \n",
    "\n",
    "\n",
    "Second, write another function that does the same task except that the second rule of the above random device becomes\n",
    "\n",
    "- If a head occurs `k` or more times within this sequence, pay one dollar.  \n",
    "\n",
    "\n",
    "Use no import besides `from numpy.random import uniform`."
   ]
  },
  {
   "cell_type": "code",
   "execution_count": 6,
   "metadata": {},
   "outputs": [
    {
     "name": "stdout",
     "output_type": "stream",
     "text": [
      "If you get heads at least 3 times in a row\n",
      "at least once in the sequence,\n",
      "you win $1.\n",
      "\n",
      "Here goes...\n",
      "\n",
      "['Tails', 'Heads', 'Heads', 'Heads', 'Tails', 'Heads', 'Tails', 'Tails', 'Heads', 'Heads']\n",
      "\n",
      "Way to go, you won $1!\n",
      "Play again to win more $$$\n"
     ]
    }
   ],
   "source": [
    "# Exercise 3.1\n",
    "import numpy as np\n",
    "import random\n",
    "\n",
    "def coin_flip_1(size):\n",
    "    \"\"\"\n",
    "    Coin Flip game with 1 realization (size).\n",
    "    Top message explains the rules.\n",
    "    k = number of minimum consecutive Heads flips to win\n",
    "    jackpot = $1\n",
    "    Ten (n = 10) unbiased (p = 0.5) coin flips.\n",
    "    \"\"\"\n",
    "    k = 3 #at least 2 or more\n",
    "    jackpot = \"$1\"\n",
    "    print(f\"If you get heads at least {k} times in a row\\nat least once in the sequence,\\nyou win {jackpot}.\\n\\nHere goes...\\n\")\n",
    "    n = 10\n",
    "    p = 0.5\n",
    "    count = 0\n",
    "    flip_array = np.random.choice([0, 1], n)\n",
    "    list_flip_array = flip_array.tolist()\n",
    "    for i in range(len(list_flip_array)):\n",
    "        if list_flip_array[i: i+2] == [1, 1]:\n",
    "            count += 1\n",
    "    for n, i in enumerate(list_flip_array):\n",
    "        if i == 1:\n",
    "            list_flip_array[n] = 'Heads'\n",
    "    for n, i in enumerate(list_flip_array):\n",
    "        if i == 0:\n",
    "            list_flip_array[n] = 'Tails'\n",
    "    print(list_flip_array)\n",
    "    if count >= k:\n",
    "        print(f\"\\nWay to go, you won {jackpot}!\\nPlay again to win more $$$\")\n",
    "    else:\n",
    "        print(\"\\nYou didn't win this time.\\nTry again!\")\n",
    "\n",
    "coin_flip_1(1) #1 realization of 10 flips"
   ]
  },
  {
   "cell_type": "code",
   "execution_count": 7,
   "metadata": {},
   "outputs": [
    {
     "name": "stdout",
     "output_type": "stream",
     "text": [
      "If you get heads at least 5 times in the set,\n",
      "you win $1!\n",
      "\n",
      "Here goes...\n",
      "['Tails', 'Heads', 'Tails', 'Tails', 'Tails', 'Tails', 'Heads', 'Heads', 'Heads', 'Tails']\n",
      "\n",
      "Only 4 times.\n",
      "You didn't win this time.\n",
      "Try again!\n"
     ]
    }
   ],
   "source": [
    "# Exercise 3.2\n",
    "import numpy as np\n",
    "import random\n",
    "\n",
    "def coin_flip_2(size):\n",
    "    \"\"\"\n",
    "    Coin Flip game with 1 realization (size).\n",
    "    Top message explains the rules.\n",
    "    k = number of minimum total head flips in entire set to win\n",
    "    jackpot = $1\n",
    "    Ten (n = 10) unbiased (p = 0.5) coin flips.\n",
    "    \"\"\"\n",
    "    k = 5\n",
    "    jackpot2 = \"$1\"\n",
    "    print(f\"If you get heads at least {k} times in the set,\\nyou win {jackpot2}!\\n\\nHere goes...\")\n",
    "    n = 10\n",
    "    p = 0.5\n",
    "    count = 0\n",
    "    flip_array = np.random.choice([0, 1], n)\n",
    "    list_flip_array = flip_array.tolist()\n",
    "    x = list_flip_array.count(1)\n",
    "    for i in range(len(list_flip_array)):\n",
    "        if list_flip_array[i: i+2] == [1, 1]:\n",
    "            count += 1\n",
    "    for n, i in enumerate(list_flip_array):\n",
    "        if i == 1:\n",
    "            list_flip_array[n] = 'Heads'\n",
    "    for n, i in enumerate(list_flip_array):\n",
    "        if i == 0:\n",
    "            list_flip_array[n] = 'Tails'\n",
    "    print(list_flip_array)\n",
    "    #if x >= k:\n",
    "    #flip_array = np.random.choice([0, 1], n)\n",
    "    #list_flip_array = flip_array.tolist()\n",
    "    #for i in range(len(list_flip_array)):\n",
    "       # if list_flip_array[i: i+2] == [1, 1]:\n",
    "          #  count += 1\n",
    "    #print(x)\n",
    "    if x >= k:\n",
    "        print(f\"\\nWay to go, you won {jackpot2}!\\nPlay again to win more $$$\")\n",
    "    else:\n",
    "        print(f\"\\nOnly {x} times.\\nYou didn't win this time.\\nTry again!\")\n",
    "\n",
    "\n",
    "coin_flip_2(1) #1 realization of 10 flips\n"
   ]
  },
  {
   "cell_type": "markdown",
   "metadata": {},
   "source": [
    "# Exercise 4: Logistic Map fixed point\n",
    "\n",
    "The **Logistic Map** is a famous function from Chaos Theory which is defined as:\n",
    "\n",
    "$$x_{t+1} = r \\cdot x_t(1−x_t)$$\n",
    "\n",
    "with the conditions:\n",
    "\n",
    "$$x_0 ∈ [0,1], r ∈[0,4]$$\n",
    "\n",
    "Write a lambda $logistic(x, r)$, that's successively applied to itself through a second function `logistic_n_times(x0, f, r, n)`\n",
    "\n",
    "Make a few runs of this for various values of `x0` and `r`. Answer the following:\n",
    "\n",
    "- Can you find a fixed point? \n",
    "\n",
    "- At what values of `r` are there fixed points? \n",
    "\n",
    "- Are there any ranges of input for which the function is an attractor?"
   ]
  },
  {
   "cell_type": "code",
   "execution_count": 28,
   "metadata": {},
   "outputs": [
    {
     "data": {
      "text/plain": [
       "0.624"
      ]
     },
     "execution_count": 28,
     "metadata": {},
     "output_type": "execute_result"
    }
   ],
   "source": [
    "logistic = lambda x, r: r*x*(1-x)\n",
    "logistic(0.4, 2.6)"
   ]
  },
  {
   "cell_type": "code",
   "execution_count": 55,
   "metadata": {},
   "outputs": [
    {
     "data": {
      "text/plain": [
       "0.6153846153846154"
      ]
     },
     "execution_count": 55,
     "metadata": {},
     "output_type": "execute_result"
    }
   ],
   "source": [
    "#Exercise 4: LOGISTIC MAP FIXED POINT\n",
    "'''\n",
    "- In this example, with r = 2.6, fixed point at around 0.615\n",
    "- Fixed points at 1 <= r <= 3, then forks out (bifurcation)\n",
    "- I don not understant: Are there any ranges of input for which the function is an attractor?\n",
    "\n",
    "'''\n",
    "logistic = lambda x,r: r*x*(1-x)\n",
    "\n",
    "def logistic_n_times(x0, f, r, n):\n",
    "    for i in range(n):\n",
    "        x0 = f(x0, r)\n",
    "    return x0\n",
    "\n",
    "logistic_n_times(0.4, logistic, 2.6, 100)"
   ]
  },
  {
   "cell_type": "markdown",
   "metadata": {},
   "source": [
    "# Exercise 5 (stretch): Famous Chaos Theory Plot \n",
    "\n",
    "There is a famous plot in chaos theory of the logistic map that relates values of the attractors in $x_t$ for values of $r$, detailing where the function tends to \"end up\" for each value of $r$.\n",
    "\n",
    "<img src=\"logistic map.png\" style=\"width: 400px;\">\n",
    "\n",
    "Reproduce this plot using the `matplotlib` package.\n",
    "\n",
    "**Hint:** Produce samples from the function to fill arrays on the x and y axis!\n",
    "\n",
    "**Hint:** Take the final 50 values in a series of data points produced by the function!"
   ]
  }
 ],
 "metadata": {
  "colab": {
   "authorship_tag": "ABX9TyO6ouX4mUPsrtNoh84NFVy3",
   "collapsed_sections": [],
   "name": "Workshop Functions.ipynb",
   "provenance": []
  },
  "kernelspec": {
   "display_name": "Python 3",
   "language": "python",
   "name": "python3"
  },
  "language_info": {
   "codemirror_mode": {
    "name": "ipython",
    "version": 3
   },
   "file_extension": ".py",
   "mimetype": "text/x-python",
   "name": "python",
   "nbconvert_exporter": "python",
   "pygments_lexer": "ipython3",
   "version": "3.8.3"
  }
 },
 "nbformat": 4,
 "nbformat_minor": 1
}
