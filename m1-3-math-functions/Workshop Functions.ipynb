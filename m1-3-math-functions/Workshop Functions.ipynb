{
 "cells": [
  {
   "cell_type": "markdown",
   "metadata": {
    "colab_type": "text",
    "id": "aX9oCHrXqhIj"
   },
   "source": [
    "# 1. Math Drills\n",
    "\n",
    "Give an example of a binary relation on a set which is\n",
    "\n",
    "1. Reflexive and symmetric, but not transitive  \n",
    "2. Reflexive, but neither symmetric nor transitive  \n",
    "3. Symmetric, but neither reflexive nor transitive  \n",
    "4. Transitive, but neither reflexive nor symmetric  \n",
    "\n",
    "Recall the definitions from the lectures if you need to!"
   ]
  },
  {
   "cell_type": "code",
   "execution_count": null,
   "metadata": {},
   "outputs": [],
   "source": [
    "1. {(a,a),(b,b),(c,c),(d,d),(b,a),(a,b),(c,b),(b,c)}  \n",
    "2. {(a,a),(b,b),(c,c)}\n",
    "3. {(a,b),(b,a)}\n",
    "4. {(a,b),(b,c)(a,c)}\n"
   ]
  },
  {
   "cell_type": "markdown",
   "metadata": {},
   "source": [
    "# Exercise 2: A bunch of Math!\n",
    "\n",
    "## 2.0 Polynomial\n",
    "\n",
    "Consider the polynomial\n",
    "\n",
    "$$\n",
    "p(x)\n",
    "= a_0 + a_1 x + a_2 x^2 + \\cdots a_n x^n\n",
    "= \\sum_{i=0}^n a_i x^i \\tag{1}\n",
    "$$\n",
    "\n",
    "Write a function `p` such that `p(x, coeff)` that computes the value in given a point `x` and a list of coefficients `coeff`.\n",
    "\n",
    "```\n",
    "p(5, [1, 1]) = 1 + 5 = 6\n",
    "p(5, [2, 1, 1]) = 2 + 5 + 25 = 31\n",
    "```"
   ]
  },
  {
   "cell_type": "code",
   "execution_count": 137,
   "metadata": {
    "scrolled": true
   },
   "outputs": [
    {
     "data": {
      "text/plain": [
       "2513"
      ]
     },
     "execution_count": 137,
     "metadata": {},
     "output_type": "execute_result"
    }
   ],
   "source": [
    "def p(x, coeff):\n",
    "    \"\"\"Creates a list of each of the values we got in their respective indices. \n",
    "    It raises x to the power of it's index and multiplies it by the coeff.\n",
    "    Sum list of values and get the result. \n",
    "    Enumerate() adds a counter. So enumerate(list) gives you, index, item\"\"\"\n",
    "    val_lst = [a*(x**i) for i, a in enumerate(coeff)]\n",
    "    return sum(val_lst)#can probably put this in one line. Not sure if ok. \n",
    "        \n",
    "p(5, [3,2,5,4,3]) "
   ]
  },
  {
   "cell_type": "code",
   "execution_count": 138,
   "metadata": {},
   "outputs": [
    {
     "data": {
      "text/plain": [
       "2513"
      ]
     },
     "execution_count": 138,
     "metadata": {},
     "output_type": "execute_result"
    }
   ],
   "source": [
    "#Same as above. Just wanted to try writing it with less code\n",
    "def p2(x, coeff):\n",
    "    return sum([a*(x**i) for i, a in enumerate(coeff)])\n",
    "\"\"\"sum the results of multiplying the coeff by x (raised to the index power)\n",
    "for enumerated coeff list. Enumerate() adds a counter. So enumerate(list) gives you, index, item\"\"\"\n",
    "\n",
    "p2(5, [3,2,5,4,3]) "
   ]
  },
  {
   "cell_type": "markdown",
   "metadata": {},
   "source": [
    "# 2.1 Variance\n",
    "\n",
    "Define a function named `var` that takes a list of numbers and computes the variance. The variance is:\n",
    "\n",
    "$$variance(x) = ∑_i(x_i − average(x))^2$$\n",
    "\n",
    "Don't cheat and use `numpy.var`! You should only use that function to test that your function is correct"
   ]
  },
  {
   "cell_type": "code",
   "execution_count": 139,
   "metadata": {
    "scrolled": true
   },
   "outputs": [
    {
     "data": {
      "text/plain": [
       "12.666666666666666"
      ]
     },
     "execution_count": 139,
     "metadata": {},
     "output_type": "execute_result"
    }
   ],
   "source": [
    "def var(lst):\n",
    "    mean = (sum(lst))/(len(lst))\n",
    "    sqr_val = [(i-mean)**2 for i in lst]\n",
    "    return sum(sqr_val)/(len(sqr_val))\n",
    "#var([872,123,475])\n",
    "var([7,0,-1])"
   ]
  },
  {
   "cell_type": "code",
   "execution_count": 71,
   "metadata": {},
   "outputs": [
    {
     "data": {
      "text/plain": [
       "12.666666666666666"
      ]
     },
     "execution_count": 71,
     "metadata": {},
     "output_type": "execute_result"
    }
   ],
   "source": [
    "import numpy\n",
    "numpy.var([7, 0, -1])"
   ]
  },
  {
   "cell_type": "markdown",
   "metadata": {},
   "source": [
    "# 2.2 RMSE\n",
    "\n",
    "Calculate the root mean squared error (RMSE) of a machine learning model's output. The function takes in two lists: one with actual values, one with predictions. The formula for RMSE is:\n",
    "\n",
    "$$RMSE(y_1, y_2) = \\sqrt{\\dfrac{1}{N} \\sum_{i=1}^N (y_{1i} - y_{2i})^2}$$\n",
    "\n",
    "```\n",
    "    rmse([1, 2], [1, 2]) = 0\n",
    "    rmse([1, 2, 3], [3, 2, 1]) = 1.63\n",
    "```\n",
    "\n",
    "You can use \n",
    "\n",
    "```\n",
    "sklearn.metrics.mean_squared_error(y_actual, y_predicted, squared=False)\n",
    "```\n",
    "\n",
    "To test your function"
   ]
  },
  {
   "cell_type": "code",
   "execution_count": 140,
   "metadata": {},
   "outputs": [
    {
     "data": {
      "text/plain": [
       "337.9048189456118"
      ]
     },
     "execution_count": 140,
     "metadata": {},
     "output_type": "execute_result"
    }
   ],
   "source": [
    "import math\n",
    "def rmse(lst1, lst2):\n",
    "    \"\"\"Take predicted and actual. Find difference. Square each difference. Append to new list.\n",
    "    average the list. Square root the average\"\"\"\n",
    "    n_lst = [(n-m)**2 for n,m in zip(lst1, lst2)] #list comprehension. Square the diff of items in each list\n",
    "    return math.sqrt(sum(n_lst)/len(n_lst))#return the sqrt of avg \n",
    "\n",
    "rmse([7, 200, 300], [564, 231, 123])\n",
    "\n"
   ]
  },
  {
   "cell_type": "markdown",
   "metadata": {},
   "source": [
    "# 2.3 Jaccard Similarity\n",
    "\n",
    "The Jaccard similarity between two sets is the size of intersection divided by the size of union. Write a function that computes it:\n",
    "\n",
    "$$jaccard(A, B) = \\dfrac{|A \\cap B|}{|A \\cup B|}$$\n",
    "\n",
    "\n",
    "```\n",
    "jaccard({'a', 'b', 'c'}, {'a', 'd'}) = 1 / 4\n",
    "```\n",
    "\n"
   ]
  },
  {
   "cell_type": "code",
   "execution_count": 148,
   "metadata": {
    "scrolled": true
   },
   "outputs": [
    {
     "name": "stdout",
     "output_type": "stream",
     "text": [
      "1/4\n"
     ]
    }
   ],
   "source": [
    "def jaccard(st1, st2):\n",
    "    \"\"\"Take 2 sets. Get the length of the intersection. Get the length of the union.\n",
    "    print out the length of intersection divided by length of union\"\"\"\n",
    "    inter = len(st1.intersection(st2))\n",
    "    union = len(st1.union(st2))\n",
    "    print(f\"{inter}/{union}\")\n",
    "\n",
    "jaccard({'a', 'b', 'c'}, {'a', 'd'})\n"
   ]
  },
  {
   "cell_type": "code",
   "execution_count": 144,
   "metadata": {},
   "outputs": [
    {
     "data": {
      "text/plain": [
       "'1/4'"
      ]
     },
     "execution_count": 144,
     "metadata": {},
     "output_type": "execute_result"
    }
   ],
   "source": [
    "##Same as above. Just wanted to try another way of writing\n",
    "\n",
    "from fractions import Fraction\n",
    "def jaccard2(st1, st2):\n",
    "    \"\"\"Take 2 sets. Get the length of both the intersection and the union. The intersection length will\n",
    "    be divided by union length. Import fraction to convert decimal to a fraction and convert to string\n",
    "    to get formatting right.\"\"\"\n",
    "    return str(Fraction(len(st1.intersection(st2))/len(st1.union(st2))))\n",
    "\n",
    "jaccard2({'a', 'b', 'c'}, {'a', 'd'})\n"
   ]
  },
  {
   "cell_type": "markdown",
   "metadata": {},
   "source": [
    "# Exercise 3\n",
    "\n",
    "First, write a function that returns one realization of the following random device\n",
    "\n",
    "1. Flip an unbiased coin 10 times.  \n",
    "1. If a head occurs `k` or more times consecutively within this sequence at least once, pay one dollar.  \n",
    "1. If not, pay nothing.  \n",
    "\n",
    "\n",
    "Second, write another function that does the same task except that the second rule of the above random device becomes\n",
    "\n",
    "- If a head occurs `k` or more times within this sequence, pay one dollar.  \n",
    "\n",
    "\n",
    "Use no import besides `from numpy.random import uniform`."
   ]
  },
  {
   "cell_type": "code",
   "execution_count": 112,
   "metadata": {
    "scrolled": true
   },
   "outputs": [
    {
     "data": {
      "text/plain": [
       "1"
      ]
     },
     "execution_count": 112,
     "metadata": {},
     "output_type": "execute_result"
    }
   ],
   "source": [
    "from numpy.random import random\n",
    "\n",
    "def heads_consec(k):\n",
    "    \"\"\"Flip a coin ten times (50% probability). Add result of heads or tails to list.\n",
    "    figure out how many heads occur consecutively for k or more times\"\"\"\n",
    "    res = 0 \n",
    "    won = 0\n",
    "    for draw in range(10):\n",
    "        flip = random()\n",
    "        if flip >= 0.5: #While the flip is heads, add to res counter\n",
    "            res += 1 #Need while loop to keep program going while certain conditions remain true\n",
    "            if res >= k:\n",
    "                won = 1 #if results are more than or equal to k times, dollar is won. \n",
    "                #if loop within the first if statement because if k consecutive\n",
    "                #occurences, then you automatically win 1$ \n",
    "        else:\n",
    "            res = 0\n",
    "               \n",
    "    return won\n",
    "heads_consec(2)"
   ]
  },
  {
   "cell_type": "code",
   "execution_count": 110,
   "metadata": {},
   "outputs": [
    {
     "name": "stdout",
     "output_type": "stream",
     "text": [
      "You lose\n"
     ]
    }
   ],
   "source": [
    "from numpy.random import random\n",
    "\n",
    "def heads_occur(k):\n",
    "    \"\"\"Flip a coin ten times (50% probability). Add result of heads or tails to list.\n",
    "    figure out how many heads occur for k or more times in the 10 flips\"\"\"\n",
    "    res = 0 \n",
    "    for draw in range(10):\n",
    "        flip = random()\n",
    "        if flip >= 0.5: #While the flip is heads, add to res counter\n",
    "            res += 1 #break once the streak is done\n",
    "    if res >= k:\n",
    "        print('You won 1$') #if results are more than or equal to k times, dollar is won\n",
    "    else:\n",
    "        print('You lose')\n",
    "\n",
    "heads_occur(4)"
   ]
  },
  {
   "cell_type": "markdown",
   "metadata": {},
   "source": [
    "# Exercise 4: Logistic Map fixed point\n",
    "\n",
    "The **Logistic Map** is a famous function from Chaos Theory which is defined as:\n",
    "\n",
    "$$x_{t+1} = r \\cdot x_t(1−x_t)$$\n",
    "\n",
    "with the conditions:\n",
    "\n",
    "$$x_0 ∈ [0,1], r ∈[0,4]$$\n",
    "\n",
    "Write a lambda $logistic(x, r)$, that's successively applied to itself through a second function `logistic_n_times(x0, f, r, n)`\n",
    "\n",
    "Make a few runs of this for various values of `x0` and `r`. Answer the following:\n",
    "\n",
    "- Can you find a fixed point? \n",
    "\n",
    "- At what values of `r` are there fixed points? \n",
    "\n",
    "- Are there any ranges of input for which the function is an attractor?"
   ]
  },
  {
   "cell_type": "code",
   "execution_count": 141,
   "metadata": {},
   "outputs": [
    {
     "data": {
      "text/plain": [
       "0.5782830479626462"
      ]
     },
     "execution_count": 141,
     "metadata": {},
     "output_type": "execute_result"
    }
   ],
   "source": [
    "f = lambda x, r: r * x * (1-x)\n",
    "def logistic_n_times(x0, f, r, n):\n",
    "    \"\"\"Lambda sets the equation for Logistic Map. The func then sets x = x0 (initial)\n",
    "    and loops in the range of chosen n and then x becomes what lambda solves for x and r\"\"\"\n",
    "    x = x0 #initialize x\n",
    "    for _ in range(n):\n",
    "        x = f(x, r) #gets stored in x and gets repeated n times and x gets updated eachtime\n",
    "    return x\n",
    "\n",
    "logistic_n_times(0.3, f, 3.9, 5)"
   ]
  },
  {
   "cell_type": "markdown",
   "metadata": {},
   "source": [
    "# Exercise 5 (stretch): Famous Chaos Theory Plot \n",
    "\n",
    "There is a famous plot in chaos theory of the logistic map that relates values of the attractors in $x_t$ for values of $r$, detailing where the function tends to \"end up\" for each value of $r$.\n",
    "\n",
    "<img src=\"logistic map.png\" style=\"width: 400px;\">\n",
    "\n",
    "Reproduce this plot using the `matplotlib` package.\n",
    "\n",
    "**Hint:** Produce samples from the function to fill arrays on the x and y axis!\n",
    "\n",
    "**Hint:** Take the final 50 values in a series of data points produced by the function!"
   ]
  },
  {
   "cell_type": "code",
   "execution_count": null,
   "metadata": {},
   "outputs": [],
   "source": []
  }
 ],
 "metadata": {
  "colab": {
   "authorship_tag": "ABX9TyO6ouX4mUPsrtNoh84NFVy3",
   "collapsed_sections": [],
   "name": "Workshop Functions.ipynb",
   "provenance": []
  },
  "kernelspec": {
   "display_name": "Python 3",
   "language": "python",
   "name": "python3"
  },
  "language_info": {
   "codemirror_mode": {
    "name": "ipython",
    "version": 3
   },
   "file_extension": ".py",
   "mimetype": "text/x-python",
   "name": "python",
   "nbconvert_exporter": "python",
   "pygments_lexer": "ipython3",
   "version": "3.8.3"
  }
 },
 "nbformat": 4,
 "nbformat_minor": 1
}
