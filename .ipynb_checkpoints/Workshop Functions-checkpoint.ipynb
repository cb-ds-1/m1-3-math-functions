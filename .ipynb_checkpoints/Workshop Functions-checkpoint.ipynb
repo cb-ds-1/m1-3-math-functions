{
 "cells": [
  {
   "cell_type": "markdown",
   "metadata": {
    "colab_type": "text",
    "id": "aX9oCHrXqhIj"
   },
   "source": [
    "# 1. Math Drills\n",
    "\n",
    "Give an example of a binary relation on a set which is\n",
    "\n",
    "1. Reflexive and symmetric, but not transitive  \n",
    "2. Reflexive, but neither symmetric nor transitive  \n",
    "3. Symmetric, but neither reflexive nor transitive  \n",
    "4. Transitive, but neither reflexive nor symmetric  \n",
    "\n",
    "Recall the definitions from the lectures if you need to!"
   ]
  },
  {
   "cell_type": "markdown",
   "metadata": {},
   "source": [
    "# Exercise 2: A bunch of Math!\n",
    "\n",
    "## Polynomial\n",
    "\n",
    "Consider the polynomial\n",
    "\n",
    "$$\n",
    "p(x)\n",
    "= a_0 + a_1 x + a_2 x^2 + \\cdots a_n x^n\n",
    "= \\sum_{i=0}^n a_i x^i \\tag{1}\n",
    "$$\n",
    "\n",
    "Write a function `p` such that `p(x, coeff)` that computes the value in given a point `x` and a list of coefficients `coeff`.\n",
    "\n",
    "```\n",
    "p(5, [1, 1]) = 1 + 5 = 6\n",
    "p(5, [2, 1, 1]) = 2 + 5 + 25 = 32\n",
    "```"
   ]
  },
  {
   "cell_type": "code",
   "execution_count": 7,
   "metadata": {},
   "outputs": [
    {
     "name": "stdout",
     "output_type": "stream",
     "text": [
      "6\n",
      "32\n"
     ]
    }
   ],
   "source": [
    "def p(x, coeff):\n",
    "    value = 0\n",
    "    for i in range(len(coeff)):\n",
    "        value += coeff[i]*(x**i)\n",
    "    print(value)\n",
    "p(5, [1,1])\n",
    "p(5, [2,1,1])"
   ]
  },
  {
   "cell_type": "markdown",
   "metadata": {},
   "source": [
    "# Variance\n",
    "\n",
    "Define a function named `var` that takes a list of numbers and computes the variance. The variance is:\n",
    "\n",
    "$$variance(x) = \\frac{∑_i^N(x_i − average(x))^2}{N-1}$$\n",
    "\n",
    "Don't cheat and use `numpy.var`! You should only use that function to test that your function is correct"
   ]
  },
  {
   "cell_type": "code",
   "execution_count": 33,
   "metadata": {},
   "outputs": [
    {
     "name": "stdout",
     "output_type": "stream",
     "text": [
      "1.9171597633136095\n",
      "2.0769230769230766\n"
     ]
    }
   ],
   "source": [
    "import numpy as npy\n",
    "\n",
    "\"\"\"\n",
    "Not quite sure why my function doesnt return the same as numpy?\n",
    "\"\"\"\n",
    "def var(numbers):\n",
    "    N = len(numbers)\n",
    "    avge = npy.mean(numbers)\n",
    "    def numerator():\n",
    "        value = 0\n",
    "        for number in numbers: value += (number - avge)**2\n",
    "        return value\n",
    "    return numerator() / (N - 1)\n",
    "\n",
    "l = [2, 4, 6, 3, 5, 4, 5, 3, 2, 6, 2, 5, 4]\n",
    "\n",
    "print(npy.var(l))\n",
    "print(var(l))\n",
    "        "
   ]
  },
  {
   "cell_type": "markdown",
   "metadata": {},
   "source": [
    "# RMSE\n",
    "\n",
    "Calculate the root mean squared error (RMSE) of a machine learning model's output. The function takes in two lists: one with actual values, one with predictions. The formula for RMSE is:\n",
    "\n",
    "$$RMSE(y_1, y_2) = \\sqrt{\\dfrac{1}{N} \\sum_{i=1}^N (y_{1i} - y_{2i})^2}$$\n",
    "\n",
    "```\n",
    "    rmse([1, 2], [1, 2]) = 0\n",
    "    rmse([1, 2, 3], [3, 2, 1]) = 1.63\n",
    "```\n",
    "\n",
    "You can use \n",
    "\n",
    "```\n",
    "sklearn.metrics.mean_squared_error(y_actual, y_predicted, squared=False)\n",
    "```\n",
    "\n",
    "To test your function"
   ]
  },
  {
   "cell_type": "code",
   "execution_count": 36,
   "metadata": {},
   "outputs": [
    {
     "name": "stdout",
     "output_type": "stream",
     "text": [
      "0.0\n",
      "1.632993161855452\n"
     ]
    },
    {
     "data": {
      "text/plain": [
       "-1"
      ]
     },
     "execution_count": 36,
     "metadata": {},
     "output_type": "execute_result"
    }
   ],
   "source": [
    "import math\n",
    "\n",
    "def rmse(actuals, predics):\n",
    "    N = len(predics)\n",
    "    #arbitrary value to throw as exception\n",
    "    if len(predics) is not len(actuals): return -1 \n",
    "    def square():\n",
    "        sums = 0\n",
    "        for i in range(N): sums += (actuals[i] - predics[i])**2\n",
    "        return sums\n",
    "    return math.sqrt(square() / N)\n",
    "\n",
    "print(rmse([1, 2], [1, 2]))\n",
    "print(rmse([1, 2, 3], [3, 2, 1]))\n",
    "\n",
    "rmse([1, 2, 4, 6, ], [3, 2, 1])\n",
    "            "
   ]
  },
  {
   "cell_type": "markdown",
   "metadata": {},
   "source": [
    "# Jaccard Similarity\n",
    "\n",
    "The Jaccard similarity between two sets is the size of intersection divided by the size of union. Write a function that computes it:\n",
    "\n",
    "$$jaccard(A, B) = \\dfrac{|A \\cap B|}{|A \\cup B|}$$\n",
    "\n",
    "\n",
    "```\n",
    "jaccard({'a', 'b', 'c'}, {'a', 'd'}) = 1 / 4\n",
    "```\n",
    "\n"
   ]
  },
  {
   "cell_type": "code",
   "execution_count": 38,
   "metadata": {},
   "outputs": [
    {
     "name": "stdout",
     "output_type": "stream",
     "text": [
      "0.25\n"
     ]
    }
   ],
   "source": [
    "def jaccard(s1, s2): return len(s1.intersection(s2)) / len(s1.union(s2))\n",
    "\n",
    "print(jaccard({'a', 'b', 'c'}, {'a', 'd'}))"
   ]
  },
  {
   "cell_type": "markdown",
   "metadata": {},
   "source": [
    "# Exercise 3\n",
    "\n",
    "First, write a function that returns one realization of the following random device\n",
    "\n",
    "1. Flip an unbiased coin 10 times.  \n",
    "1. If a head occurs `k` or more times consecutively within this sequence at least once, pay one dollar.  \n",
    "1. If not, pay nothing.  \n",
    "\n",
    "\n",
    "Second, write another function that does the same task except that the second rule of the above random device becomes\n",
    "\n",
    "- If a head occurs `k` or more times within this sequence, pay one dollar.  \n",
    "\n",
    "\n",
    "Use no import besides `from numpy.random import uniform`."
   ]
  },
  {
   "cell_type": "code",
   "execution_count": 58,
   "metadata": {},
   "outputs": [
    {
     "name": "stdout",
     "output_type": "stream",
     "text": [
      "Flips: [1, 1, 1, 0, 0, 0, 0, 0, 1, 0]\n",
      "Paid a Dollar\n"
     ]
    }
   ],
   "source": [
    "from numpy.random import uniform\n",
    "\n",
    "def is_heads(number): return number > 0.5\n",
    "\n",
    "\"\"\"\n",
    "Convention: \n",
    "- flip values <=0.5 are considered tails\n",
    "- flip values > 0.5 are considered heads\n",
    "\"\"\"\n",
    "def rand_thing(k):\n",
    "    # more than 10 consecutive Heads in 10 flips is impossible\n",
    "    if k < 0 or k > 10: return \"Paid nothing\"\n",
    "    # we simplify the list of flips into binary results to simplify the tests\n",
    "    flips = [ (1 if is_heads(flip) else 0) for flip in uniform(0, 1, 10) ]\n",
    "    print(\"Flips:\", flips)\n",
    "    # we create a sublist of the smallest length possible\n",
    "    sublist = [1] * k\n",
    "    l1 = len(flips)\n",
    "    for i in range(l1):\n",
    "        # if we make it to an index where adding the smallest length of consecutive heads\n",
    "        # gives us an index outside the range of the list of flips, then we don't need to \n",
    "        # check the remaining elements\n",
    "        if i+k >= l1: return \"Paid Nothing\"\n",
    "        if flips[i:i+k] == sublist: return \"Paid a Dollar\"\n",
    "    return \"Paid nothing\"\n",
    "            \n",
    "        \n",
    "print(rand_thing(2))"
   ]
  },
  {
   "cell_type": "markdown",
   "metadata": {},
   "source": [
    "# Exercise 4: Logistic Map fixed point\n",
    "\n",
    "The **Logistic Map** is a famous function from Chaos Theory which is defined as:\n",
    "\n",
    "$$x_{t+1} = r \\cdot x_t(1−x_t)$$\n",
    "\n",
    "with the conditions:\n",
    "\n",
    "$$x_0 ∈ [0,1], r ∈[0,4]$$\n",
    "\n",
    "Write a lambda $f = logistic(x, r)$, that's successively applied to itself $n$ times through a second function `logistic_n_times(x0, f, r, n)` with the inital point $X_0$\n",
    "\n",
    "Make a few runs of this for various values of `x0` and `r`. Answer the following:\n",
    "\n",
    "- Can you find a fixed point? \n",
    "\n",
    "- At what values of `r` are there fixed points? \n",
    "\n",
    "- Are there any ranges of input for which the function is an attractor?"
   ]
  },
  {
   "cell_type": "code",
   "execution_count": 28,
   "metadata": {},
   "outputs": [
    {
     "name": "stdout",
     "output_type": "stream",
     "text": [
      "{'rlist': [1.0, 1.01, 1.02, 1.03, 1.04, 1.05, 1.06, 1.07, 1.08, 1.09, 1.1, 1.11, 1.12, 1.1300000000000001, 1.1400000000000001, 1.1500000000000001, 1.16, 1.17, 1.18, 1.19, 1.2, 1.21, 1.22, 1.23, 1.24, 1.25, 1.26, 1.27, 1.28, 1.29, 1.3, 1.31, 1.32, 1.33, 1.34, 1.35, 1.36, 1.37, 1.3800000000000001, 1.3900000000000001, 1.4000000000000001, 1.41, 1.42, 1.43, 1.44, 1.45, 1.46, 1.47, 1.48, 1.49, 1.5, 1.51, 1.52, 1.53, 1.54, 1.55, 1.56, 1.57, 1.58, 1.59, 1.6, 1.61, 1.62, 1.6300000000000001, 1.6400000000000001, 1.6500000000000001, 1.6600000000000001, 1.67, 1.68, 1.69, 1.7, 1.71, 1.72, 1.73, 1.74, 1.75, 1.76, 1.77, 1.78, 1.79, 1.8, 1.81, 1.82, 1.83, 1.84, 1.85, 1.86, 1.87, 1.8800000000000001, 1.8900000000000001, 1.9000000000000001, 1.9100000000000001, 1.92, 1.93, 1.94, 1.95, 1.96, 1.97, 1.98, 1.99, 2.0, 2.0100000000000002, 2.02, 2.0300000000000002, 2.04, 2.05, 2.06, 2.07, 2.08, 2.09, 2.1, 2.11, 2.12, 2.13, 2.14, 2.15, 2.16, 2.17, 2.18, 2.19, 2.2, 2.21, 2.22, 2.23, 2.24, 2.25, 2.2600000000000002, 2.27, 2.2800000000000002, 2.29, 2.3000000000000003, 2.31, 2.32, 2.33, 2.34, 2.35, 2.36, 2.37, 2.38, 2.39, 2.4, 2.41, 2.42, 2.43, 2.44, 2.45, 2.46, 2.47, 2.48, 2.49, 2.5, 2.5100000000000002, 2.52, 2.5300000000000002, 2.54, 2.5500000000000003, 2.56, 2.57, 2.58, 2.59, 2.6, 2.61, 2.62, 2.63, 2.64, 2.65, 2.66, 2.67, 2.68, 2.69, 2.7, 2.71, 2.72, 2.73, 2.74, 2.75, 2.7600000000000002, 2.77, 2.7800000000000002, 2.79, 2.8000000000000003, 2.81, 2.82, 2.83, 2.84, 2.85, 2.86, 2.87, 2.88, 2.89, 2.9, 2.91, 2.92, 2.93, 2.94, 2.95, 2.96, 2.97, 2.98, 2.99, 3.0, 3.0100000000000002, 3.02, 3.0300000000000002, 3.04, 3.0500000000000003, 3.06, 3.0700000000000003, 3.08, 3.09, 3.1, 3.11, 3.12, 3.13, 3.14, 3.15, 3.16, 3.17, 3.18, 3.19, 3.2, 3.21, 3.22, 3.23, 3.24, 3.25, 3.2600000000000002, 3.27, 3.2800000000000002, 3.29, 3.3000000000000003, 3.31, 3.3200000000000003, 3.33, 3.34, 3.35, 3.36, 3.37, 3.38, 3.39, 3.4, 3.41, 3.42, 3.43, 3.44, 3.45, 3.46, 3.47, 3.48, 3.49, 3.5, 3.5100000000000002, 3.52, 3.5300000000000002, 3.54, 3.5500000000000003, 3.56, 3.5700000000000003, 3.58, 3.59, 3.6, 3.61, 3.62, 3.63, 3.64, 3.65, 3.66, 3.67, 3.68, 3.69, 3.7, 3.71, 3.72, 3.73, 3.74, 3.75, 3.7600000000000002, 3.77, 3.7800000000000002, 3.79, 3.8000000000000003, 3.81, 3.8200000000000003, 3.83, 3.84, 3.85, 3.86, 3.87, 3.88, 3.89, 3.9, 3.91, 3.92, 3.93, 3.94, 3.95, 3.96, 3.97, 3.98, 3.99], 'xlist': [0.0, 5.307600753005029e-13, -7.351588272955439e-13, -1.1706585378156332e-20, 4.484527064368033e-12, -1.994189941406259e-07, -1.3928761681921186e-16, -3.7094230271766536e-11, -1.0014313238427893e-12, -4.542710295644527e-06, -8.05255000000004e-06, 2.4699906876944873e-08, 5.323094228883987e-08, -3.4204164251391906e-05, -5.177670861823514e-05, 1.3173603891723714e-05, 8.354215366766428e-10, 1.2247523158698321e-06, 9.343619157188594e-08, -7.721026898372281e-07, 5.503765708799989e-06, 0.00013458541395384332, -3.6142035471977554e-06, -5.803186546957776e-06, -8.108344642351665e-07, -1.3877787807814457e-06, -0.00020247772659666243, 9.556742518967035e-05, -0.0029567187084849986, 2.6843991110019542e-05, 6.190778827788226e-06, -2.477039252622403e-05, -0.0067234093220443015, -5.8209168240531306e-05, -0.000422886131747942, -0.0026289522271295924, -0.00019374277007206146, -0.016733294727460313, -0.0001133926444236182, 0.0037291105869946047, 0.0015165274454805777, 0.0006966355558924104, 0.0028467304850208095, -0.006283627645224787, 0.03234901161208389, -0.010719996620112502, -0.01389844431950924, -0.01793522124844751, 0.06426695465195183, -0.10372459470601467, 0.05005645751953125, 0.10429241993855655, 0.047581630502354984, 0.040418259635825224, 0.05469451457697827, 0.10137103507238075, -0.25440938676965097, 0.256813028782263, 0.20884342622621077, -0.3632584154087514, -0.31911966527592117, -0.4099046318590364, -0.5156047772965103, 0.5863256956206295, 0.6685177403043328, -0.9387408394632548, -1.1372035757108871, 1.228287960912723, -0.9728838105501475, -1.9933894824231297, 4.032120857593133, 2.3605090902515204, 2.7660342350605047, -10.39361262869707, -1.7695989193175663, 4.403160344925709, 2.8637002993177387, -27.98993528103663, -18.476965986229658, 3.998073169472483, 9.244212944751826, 49.30978731405198, -18.362726580395886, -114.51157070077709, -25.167726511128254, -179.74156049359922, 21.431924369219256, -15.08328782235691, -127.06201547389836, 32.04678678315496, 36.554334990592, -72.38404359197973, -8.59835327215841, 53.86318929110526, -33.53336136528591, 69.34828695022186, 78.55764207043684, 24.344326660610175, -51.78558253904289, 1709.3431519473265, -16.0, 2450.073871041869, -1420.4859995471807, -1669.6901807448946, 205.24758610645787, -23.103927068374045, -24.821923482829177, -641.4415858377213, -18548.217513120853, -22254.415743173646, -26664.027154381023, -35.23685787503462, 89.5969665004149, -1355.4778547153455, -257.1581999500035, 698.3295287327508, 776.7189971719732, -52.74702650797108, -372.68293814908367, 49075.295025926134, -151293.77303176007, 1307.3478480278059, 77897.52617937692, -584.036279560923, 1771.4448345875228, -344487.056655121, 17529.109218163492, 287.04333896987885, 2631.046583800653, 2899.823369230891, -119.48845507495022, -1161.8576802811783, -134.67270546136655, -1215257.5006420119, -144044.6782551959, 509.7764738522312, 597559.2044746092, -2228773.1927439584, 6770.462734167972, -2232.8467303584807, -2417.3801189985484, -4027541.4835084146, -33412.07115427552, 10629.393693766044, 940.7709858497101, 160070.3410759987, 178586.9142182104, -722981.4798945069, -333.0711261465606, -12617781.599060057, 1390.4571533203125, 21289.98495471861, 4987691.103903167, 25203.776530437834, 6415392.820951712, -1838910.82348005, -8100.68882939213, 35126.28415633825, -562.7998447020185, 11894129.56816618, -186556.32587770902, 15155372.134649642, -72540739.8280544, 3103.345448419997, 1157304.797651725, 24418997.035535734, -16364.324280831148, -17521.211494441664, 4165.186564802164, 1885210.5022817135, -21461.437262151623, 49040492.105234005, 2511559.7457807777, 61585008.59486503, -14463317.71618466, 143858.63807374623, -1352.3177664398306, -19676751.188483942, -36326.502979687655, 120352970.93394119, -1049167.50805358, -1701.7449802344988, -1780.6250790268325, 186131684.34773424, -1083278500.875114, -43767574.21790598, -48265716.22416641, -1532412009.379451, 369294.38170350157, 352602808.77438, -2340638.7681485247, 14741.040579735374, 482146441.9187157, -2891.309952492315, 592596017.4132245, 19839753.76516306, -4217850436.4049315, -4017668.3485355414, -5253260179.289335, -4673996.544092796, 839808.0, -7275840894.906571, -217726574.96211132, -9019296574.711588, 1093956.3980439298, 1167883.7281486415, 49528647.974934086, -341323299.0265241, -221446.26748720574, -234262.81793536208, -10500232.160680907, 39923.35865436894, -23192412066.20678, -292710.0212459808, -6849.945425948152, 101498620.90502356, 50560.92456826528, 52976.587629069516, 55497.27841688562, 58127.118131109746, 7410404487.557134, -57628190548.73968, 66714.93714826606, 187950661.30916247, 73068.16075493545, -10454.406908512115, 4340885.3750677565, 253925375.21888876, -114415004916.79958, -12137.434682918843, 5506862.230107133, 341483513.3556833, -47709473.25623049, -3067409117.9480243, -3323193048.8510275, -937041.2065780816, -245039811106.90466, -1036615.5815434905, -295384396118.17017, -4937914831.415188, -5340251991.241647, 154027.59478017842, -19416.786912431693, 56204970995.05482, -103396163.47778893, -562053086441.1837, 13773986.452788802, -1698849.867662801, -1783144.2511370117, -24779.576208919392, -150328900.66504478, -12409641109.3952, -2160590.360522745, -180728666.17955837, 264235.93296341127, -204120585.6617287, -18011903041.01348, 25106184.72232185, -33611.1728565911, -34748.90051020297, -3147030.4530999353, 2757065582.21695, -38372.4309796734, 286627916399.2082, -349395895.6354765, -3960419.3440557905, 3824698667.981224, -39987162366.28995, 423410239729.4005, -4747014.163027368, 497007.4900074974, -53057307825.36519, 54936976.71039297, -5676365.558352688, -5933694.183715235, 723331774231.1279, 780069195605.7421, 841053138102.8931, 673270.4891744835, -826343705.9122195, -68183.31999109127, -105904461365.84834, 90671285.74288915, -14248781531988.121, -9173117.473469667, -16708700253968.799, -1217727305.6935222, 14285604481.751535, -21177991903286.17, -181255790315.95636, 2190389068826.893, 1084896.9359359753, -98245.9364759571, -13421195.403547715, 162075892.6626412, 23076031354.457645, -39427538558638.75, -2202381797.8355174, -117345.56627560426, 4156224637567.1006]}\n"
     ]
    }
   ],
   "source": [
    "'''\n",
    "Methods from \n",
    "https://www.reddit.com/r/learnpython/comments/zzh28/a_simple_python_implementation_of_the_logistic_map/\n",
    "'''\n",
    "\n",
    "from random import randint\n",
    "\n",
    "iterations = 10   # Number of iterations per point\n",
    "seed = 0.5          # Seed value for x in (0, 1)\n",
    "spacing = .01     # Spacing between points on domain (r-axis)\n",
    "res = 8             # Largest n-cycle visible\n",
    "\n",
    "def logistic(r, x): return r * x * (1 - x)\n",
    "\n",
    "# Return nth iteration of logisticmap(x. r)\n",
    "def logistic_n_times(n, x, r):\n",
    "    for i in range(1,n): \n",
    "        x = logistic(x, r)\n",
    "    return x\n",
    "\n",
    "def gen_lists(xo, xRange, rRange):\n",
    "    rlist = []\n",
    "    xlist = []\n",
    "    previousX = 0\n",
    "    for r in [i * spacing for i in range(int(xRange[0]/spacing),int(xRange[1]/spacing))]:\n",
    "        rlist.append(r)\n",
    "        previousX = logistic_n_times(randint(iterations-res/2,iterations+res/2), xo, r)\n",
    "        xlist.append(previousX)\n",
    "        \n",
    "        #rlist.append(r)\n",
    "        #previousX = logistic_n_times(randint(iterations-res/2,iterations+res/2), xo, r)\n",
    "        #xlist.append(previousX)\n",
    "    return {\"rlist\": rlist, \"xlist\": xlist}\n",
    "\n",
    "\n",
    "\n",
    "    \n",
    "print(gen_lists(seed))\n",
    "        "
   ]
  },
  {
   "cell_type": "markdown",
   "metadata": {},
   "source": [
    "# Exercise 5 (stretch): Famous Chaos Theory Plot \n",
    "\n",
    "There is a famous plot in chaos theory of the logistic map that relates values of the attractors in $x_t$ for values of $r$, detailing where the function tends to \"end up\" for each value of $r$.\n",
    "\n",
    "<img src=\"logistic map.png\" style=\"width: 400px;\">\n",
    "\n",
    "Reproduce this plot using the `matplotlib` package.\n",
    "\n",
    "**Hint:** Produce samples from the function to fill arrays on the x and y axis!\n",
    "\n",
    "**Hint:** Take the final 50 values in a series of data points produced by the function!"
   ]
  }
 ],
 "metadata": {
  "colab": {
   "authorship_tag": "ABX9TyO6ouX4mUPsrtNoh84NFVy3",
   "collapsed_sections": [],
   "name": "Workshop Functions.ipynb",
   "provenance": []
  },
  "kernelspec": {
   "display_name": "Python 3",
   "language": "python",
   "name": "python3"
  },
  "language_info": {
   "codemirror_mode": {
    "name": "ipython",
    "version": 3
   },
   "file_extension": ".py",
   "mimetype": "text/x-python",
   "name": "python",
   "nbconvert_exporter": "python",
   "pygments_lexer": "ipython3",
   "version": "3.8.3"
  }
 },
 "nbformat": 4,
 "nbformat_minor": 1
}
