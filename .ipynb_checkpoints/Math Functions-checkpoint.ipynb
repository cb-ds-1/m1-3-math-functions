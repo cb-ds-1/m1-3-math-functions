{
 "cells": [
  {
   "cell_type": "markdown",
   "metadata": {
    "colab_type": "text",
    "id": "5Yiopyo2Ihhk"
   },
   "source": [
    "# Functions\n",
    "\n",
    "**Warning:** This lecture is a big pile of math. It's meant to get you in the groove with mathematical jargon, writing and thinking. \n",
    "\n",
    "If you have a hard time following the first time around, come back and practice! It's normal to feel confused when coming across new math. Take your time.\n",
    "\n",
    "----\n",
    "\n",
    "A function takes elements in one set and returns elements in another set (possibly the same one).To practice our math, let's go over the formal math definition of a function. Take your time as needed reading through this definition:\n",
    "\n",
    "Let $A,B$ be sets, and let $F$ be a subset of $A × B$. We say that $F$ is a function if it satisfies the following property: for each $a ∈ A$, there is a unique pair $(a, b) ∈ F$ (an input must have exactly one output). To denote this, we use the arrow notation $F : A → B$. \n",
    "\n",
    "Remember that $A × B$ is the cartesian product between A and B as we saw before. We'll also often say that $F$ \"maps\" $A$ into $B$ (hence the arrow pointing from $A$ into $B$).\n",
    "\n",
    "So the square function above can be written as the following map:\n",
    "\n",
    "$$F = \\{(1,1),(2,4),(3,9),(4,16),...\\} = \\{(x,x^2) : x ∈ \\mathbb{N}\\}$$\n",
    "\n",
    "So we see thata function is a set of *input-output pairs*. The set $A$ is called the domain (AKA inputs or arguments) of $F$ and $B$ is called the range (outputs) of $F$.\n",
    "\n",
    "The cleanest way to represent a function is with a map container, called the `Dict` in python:"
   ]
  },
  {
   "cell_type": "code",
   "execution_count": null,
   "metadata": {
    "colab": {
     "base_uri": "https://localhost:8080/",
     "height": 34
    },
    "colab_type": "code",
    "executionInfo": {
     "elapsed": 772,
     "status": "ok",
     "timestamp": 1595278198228,
     "user": {
      "displayName": "Matthieu Ranger",
      "photoUrl": "",
      "userId": "05160963434497794589"
     },
     "user_tz": 240
    },
    "id": "v9lNw8qQ9ixS",
    "outputId": "38d8d68b-89b6-45ef-bf65-27edef7bed76"
   },
   "outputs": [
    {
     "data": {
      "text/plain": [
       "9"
      ]
     },
     "execution_count": 1,
     "metadata": {
      "tags": []
     },
     "output_type": "execute_result"
    }
   ],
   "source": [
    "square_map = {\n",
    "    1: 1,\n",
    "    2: 4,\n",
    "    3: 9,\n",
    "    4: 16,\n",
    "}\n",
    "\n",
    "square_map[3]"
   ]
  },
  {
   "cell_type": "markdown",
   "metadata": {
    "colab_type": "text",
    "id": "HJauhJ5i_vkH"
   },
   "source": [
    "This is often used to map elements in a dataset in one step:"
   ]
  },
  {
   "cell_type": "code",
   "execution_count": null,
   "metadata": {
    "colab": {
     "base_uri": "https://localhost:8080/",
     "height": 104
    },
    "colab_type": "code",
    "executionInfo": {
     "elapsed": 749,
     "status": "ok",
     "timestamp": 1595278198231,
     "user": {
      "displayName": "Matthieu Ranger",
      "photoUrl": "",
      "userId": "05160963434497794589"
     },
     "user_tz": 240
    },
    "id": "VTtGpapa_vt1",
    "outputId": "e461c62c-f4cf-436d-d819-2927424de199"
   },
   "outputs": [
    {
     "data": {
      "text/plain": [
       "0     1\n",
       "1     4\n",
       "2     9\n",
       "3    16\n",
       "dtype: int64"
      ]
     },
     "execution_count": 2,
     "metadata": {
      "tags": []
     },
     "output_type": "execute_result"
    }
   ],
   "source": [
    "import pandas as pd\n",
    "\n",
    "pd.Series([1,2,3,4]).map(square_map)"
   ]
  },
  {
   "cell_type": "markdown",
   "metadata": {
    "colab_type": "text",
    "id": "ggtMVWqT9jDD"
   },
   "source": [
    "**NOTE:** The term *map* is fairly ambiguous in mathematics and programming it can refer to:\n",
    "\n",
    "- A function (a mapping)\n",
    "\n",
    "- A dictionary object representing a mapping (a map object)\n",
    "\n",
    "- Applying a function over a set of elements (like in the pandas code above, a map-application)\n",
    "\n",
    "----\n",
    "\n",
    "Functions often have to handle infinite numbers of input-output pairs. \n",
    "\n",
    "For example, the *square* function above should preferably work on all real numbers.\n",
    "\n",
    "In fact, most interesting functions work on infinite sets, so pure functions are a basic construct in any programming language:"
   ]
  },
  {
   "cell_type": "code",
   "execution_count": null,
   "metadata": {
    "colab": {},
    "colab_type": "code",
    "id": "sTDApTDZIhhm"
   },
   "outputs": [],
   "source": [
    "# We can define a function with the `def` statement\n",
    "def square(x):\n",
    "  return x ** 2\n",
    "\n",
    "# Let's make it a bit more explanatory:\n",
    "def square(x: float) -> float:\n",
    "  \"\"\"Square a number\"\"\"\n",
    "  return x ** 2"
   ]
  },
  {
   "cell_type": "markdown",
   "metadata": {
    "colab_type": "text",
    "id": "g9UUk8OYR4p3"
   },
   "source": [
    "Note a few things going on here:\n",
    "\n",
    "0) We give inline documentation with [docstrings](https://en.wikipedia.org/wiki/Docstring). This way we can look it up like other functions using `square?` in the notebook.\n",
    "\n",
    "1) We specify the type of the input and output of the function. This is optional in python."
   ]
  },
  {
   "cell_type": "code",
   "execution_count": null,
   "metadata": {
    "colab": {
     "base_uri": "https://localhost:8080/",
     "height": 34
    },
    "colab_type": "code",
    "executionInfo": {
     "elapsed": 650,
     "status": "ok",
     "timestamp": 1595278203260,
     "user": {
      "displayName": "Matthieu Ranger",
      "photoUrl": "",
      "userId": "05160963434497794589"
     },
     "user_tz": 240
    },
    "id": "5Xhj1jGrSl5D",
    "outputId": "06762014-738c-4996-f49a-bb056253e4b4"
   },
   "outputs": [
    {
     "name": "stdout",
     "output_type": "stream",
     "text": [
      "Oops, this isn't a float: <class 'int'>\n"
     ]
    }
   ],
   "source": [
    "# Type hints in functions are only HINTS\n",
    "print(f\"Oops, this isn't a float: {type(square(3))}\")\n",
    "\n",
    "# In other programming language you're forced to respect input and output types\n",
    "# Python is good at being \"math-like\", but this is an area where it's loose\n",
    "def square(x) -> float:\n",
    "  if x < 5: return \"banana\" # This disregsards the type hint\n",
    "  return x ** 2"
   ]
  },
  {
   "cell_type": "code",
   "execution_count": null,
   "metadata": {
    "colab": {
     "base_uri": "https://localhost:8080/",
     "height": 321
    },
    "colab_type": "code",
    "executionInfo": {
     "elapsed": 667,
     "status": "error",
     "timestamp": 1595278207168,
     "user": {
      "displayName": "Matthieu Ranger",
      "photoUrl": "",
      "userId": "05160963434497794589"
     },
     "user_tz": 240
    },
    "id": "K4CqJRfh_UTX",
    "outputId": "0ae28f38-db8a-482f-e8ef-34e1e81a6015"
   },
   "outputs": [
    {
     "ename": "AssertionError",
     "evalue": "ignored",
     "output_type": "error",
     "traceback": [
      "\u001b[0;31m---------------------------------------------------------------------------\u001b[0m",
      "\u001b[0;31mAssertionError\u001b[0m                            Traceback (most recent call last)",
      "\u001b[0;32m<ipython-input-6-6fd6810dbe7b>\u001b[0m in \u001b[0;36m<module>\u001b[0;34m()\u001b[0m\n\u001b[1;32m      8\u001b[0m   \u001b[0;32mreturn\u001b[0m \u001b[0mx\u001b[0m \u001b[0;34m**\u001b[0m \u001b[0;36m2\u001b[0m\u001b[0;34m\u001b[0m\u001b[0;34m\u001b[0m\u001b[0m\n\u001b[1;32m      9\u001b[0m \u001b[0;34m\u001b[0m\u001b[0m\n\u001b[0;32m---> 10\u001b[0;31m \u001b[0msquare\u001b[0m\u001b[0;34m(\u001b[0m\u001b[0;36m3\u001b[0m\u001b[0;34m)\u001b[0m\u001b[0;34m\u001b[0m\u001b[0;34m\u001b[0m\u001b[0m\n\u001b[0m",
      "\u001b[0;32m<ipython-input-6-6fd6810dbe7b>\u001b[0m in \u001b[0;36msquare\u001b[0;34m(x)\u001b[0m\n\u001b[1;32m      5\u001b[0m \u001b[0;32mdef\u001b[0m \u001b[0msquare\u001b[0m\u001b[0;34m(\u001b[0m\u001b[0mx\u001b[0m\u001b[0;34m:\u001b[0m \u001b[0mfloat\u001b[0m\u001b[0;34m)\u001b[0m \u001b[0;34m->\u001b[0m \u001b[0mfloat\u001b[0m\u001b[0;34m:\u001b[0m\u001b[0;34m\u001b[0m\u001b[0;34m\u001b[0m\u001b[0m\n\u001b[1;32m      6\u001b[0m   \u001b[0;34m\"\"\"We INSIST on float input\"\"\"\u001b[0m\u001b[0;34m\u001b[0m\u001b[0;34m\u001b[0m\u001b[0m\n\u001b[0;32m----> 7\u001b[0;31m   \u001b[0;32massert\u001b[0m \u001b[0mtype\u001b[0m\u001b[0;34m(\u001b[0m\u001b[0mx\u001b[0m\u001b[0;34m)\u001b[0m \u001b[0;32mis\u001b[0m \u001b[0mfloat\u001b[0m \u001b[0;31m# crash if x not a float\u001b[0m\u001b[0;34m\u001b[0m\u001b[0;34m\u001b[0m\u001b[0m\n\u001b[0m\u001b[1;32m      8\u001b[0m   \u001b[0;32mreturn\u001b[0m \u001b[0mx\u001b[0m \u001b[0;34m**\u001b[0m \u001b[0;36m2\u001b[0m\u001b[0;34m\u001b[0m\u001b[0;34m\u001b[0m\u001b[0m\n\u001b[1;32m      9\u001b[0m \u001b[0;34m\u001b[0m\u001b[0m\n",
      "\u001b[0;31mAssertionError\u001b[0m: "
     ]
    }
   ],
   "source": [
    "# You can write code where functions return different things based on logic\n",
    "# I'm not the police, I won't stop you.\n",
    "# Just be aware it's not considered good code: it makes code hard to reason about\n",
    "# One way to enforce types is with \"defensive\" or \"contract\" programming:\n",
    "def square(x: float) -> float:\n",
    "  \"\"\"We INSIST on float input\"\"\"\n",
    "  assert type(x) is float # crash if x not a float\n",
    "  return x ** 2\n",
    "\n",
    "square(3)"
   ]
  },
  {
   "cell_type": "markdown",
   "metadata": {},
   "source": [
    "# Keyword Arguments\n",
    "\n",
    "You can make functions with **keyword arguments** so you call them by name:"
   ]
  },
  {
   "cell_type": "code",
   "execution_count": 9,
   "metadata": {},
   "outputs": [
    {
     "name": "stdout",
     "output_type": "stream",
     "text": [
      "I have a dog named Jay\n",
      "I have a cat named Helios\n"
     ]
    }
   ],
   "source": [
    "def my_pet(name=\"Jay\", kind=\"dog\"):\n",
    "    print(f\"I have a {kind} named {name}\")\n",
    "\n",
    "my_pet()\n",
    "# You can re-order them in the function call\n",
    "my_pet(kind='cat', name='Helios')"
   ]
  },
  {
   "cell_type": "markdown",
   "metadata": {},
   "source": [
    "You see this very often in packages we use, like `pd.plot(kind='bar)`"
   ]
  },
  {
   "cell_type": "markdown",
   "metadata": {
    "colab_type": "text",
    "id": "-9SM744QP21S"
   },
   "source": [
    "# Relations\n",
    "\n",
    "A **binary relation** is a function comparing two elements of one set and returning a boolean.\n",
    "\n",
    "This is the most basic kind of function a type can have.\n",
    "\n",
    "The normal relation is the \"greater than or equal to $\\ge$. A relation needs to have a few important propreties to give an **ordering** on a set: (Kolmogorov, pp. 20)\n",
    "\n",
    "1) Reflexivity: $a \\ge a$ for every $a \\in M$  \n",
    "2) Antisymmetry: If $a\\ge b$ and $b \\ge a$, then $a = b$  \n",
    "3) Transitivity: If $a \\ge b$ and $b \\ge c$, then $a \\ge c$  \n",
    "\n",
    "\n",
    "If we have a set that's **ordered** then we can do **sorting** (which we'll see in detail later on!) and **partitioning** (splitting it into non-overlapping subsets) on a it.\n"
   ]
  },
  {
   "cell_type": "code",
   "execution_count": null,
   "metadata": {
    "colab": {},
    "colab_type": "code",
    "id": "litpQKxXu73V"
   },
   "outputs": [],
   "source": [
    "###Exercise: Math Drills\n",
    "\n",
    "#(Kolmogorov, pp.9) Give an example of a binary relation on a set which is\n",
    "\n",
    "#1. Reflexive and symmetric, but not transitive  \n",
    "#2. Reflexive, but neither symmetric nor transitive  \n",
    "#3. Symmetric, but neither reflexive nor transitive  \n",
    "#4. Transitive, but neither reflexive nor symmetric  "
   ]
  },
  {
   "cell_type": "markdown",
   "metadata": {
    "colab_type": "text",
    "id": "3zDVdt9Ou5hF"
   },
   "source": [
    "## Example 1: Choices in economics\n",
    "\n",
    "When studying economics in real life, we can't directly ask people for their preferences. Sometimes they lie to make themselves look good (everyone says they would prefer going to bed earlier!). Sometimes they don't know what they want until they're forced to make a choice (eg. my wife and choosing what restaurant to go).\n",
    "\n",
    "So if we define a set of possible actions:\n",
    "\n",
    "$$Actions = \\{Go\\ to\\ bed,\\ Watch\\ TV,\\ Go\\ to\\ bar\\}$$\n",
    "\n",
    "If we observe someone watching TV instead of going to bed, then we can assume for that individual, their [preference relation](https://en.wikipedia.org/wiki/Preference_(economics)) contains \n",
    "\n",
    "$$Go\\ to\\ bed \\le Watch\\ TV$$\n",
    "\n",
    "All of modern economics math is built on this idea, if you're interested in more, a good (but difficult!) book is \"Microeconomic Theory\" by Mas-Collel, Whinston & Greene.\n",
    "\n",
    "## Example 2: Ordinal numbers\n",
    "\n",
    "It's possible to have a number system on which the $\\ge$ operation is defined **but not** the $+$, $-$ or $*$ operations!\n",
    "\n",
    "These are called [ordinal numbers](https://en.wikipedia.org/wiki/Ordinal_number), as opposed to [cardinal numbers](https://en.wikipedia.org/wiki/Cardinal_number) which are the ones supporting addition and friends.\n",
    "\n",
    "A good example of ordinal numbers you see in everyday life is **review scores**. If you review an iPhone App 3 stars, then we know that you think it's better than an app you rated 2 stars. So $3stars \\ge 2stars$.\n",
    "\n",
    "However we still have\n",
    "\n",
    "$$3stars + 2stars \\neq 5stars$$\n",
    "\n",
    "In general, a 4 star review is not \"one bigger\" than a 3 star review! We could argue that for most people, the gap between a 5 star and a 4 star review is much \"bigger\" than the gap between a 4 star and a 3 star review!\n"
   ]
  },
  {
   "cell_type": "code",
   "execution_count": null,
   "metadata": {
    "colab": {},
    "colab_type": "code",
    "id": "0HD3WKhuQbHt"
   },
   "outputs": [],
   "source": [
    "### Exercise: Ordinal numbers!\n",
    "# This is kind of a group creativity exercise\n",
    "# We should end up discussing the merits and drawbacks to each methods\n",
    "\n",
    "# Find a method to map a set [o1, o2, ... on] of ordinal numbers (eg. movie reviews)\n",
    "# Into one Ordinal number\n",
    "# eg. f(O^r) --> O^1\n",
    "\n",
    "# Do the same as above, but mapping it into a real number\n",
    "\n",
    "# Do the same as above, but mapping it into a boolean"
   ]
  },
  {
   "cell_type": "markdown",
   "metadata": {
    "colab_type": "text",
    "id": "6fC0G9sn0ibL"
   },
   "source": [
    "One takewaway here is that the typical review aggregation score in the app stores (the average of the stars) makes no sense! If $+$ is not defined then the average:\n",
    "\n",
    "$$  1/|N| \\sum^N_{i \\in N} i$$\n",
    "\n",
    "Can't be defined. People are capable of using this terrible review aggregation method by building heuristics over the result (eg. 4.7+ -> very good).\n",
    "\n",
    "**Factoring: ** We could redefine the 5 star system to any other 5 numbers (1, 10, 100, 1000, 10,000 stars) and the review score would be the same, because the actual labels we put on ordinal numbers don't matter. In the end all that matters is \n",
    "\n",
    "$$smallest \\le second\\ smallest \\le ... \\le biggest$$\n",
    "\n",
    "So the App store review score would give the same result regardless as long as there are 5 options. \n",
    "\n",
    "However, the Rotten Tomatoes method (objective) or metacritic method (subjective) are better choices generally."
   ]
  },
  {
   "cell_type": "markdown",
   "metadata": {
    "colab_type": "text",
    "id": "x_TUgf6MQdVo"
   },
   "source": [
    "# Function Composition\n",
    "\n",
    "Almost all functions can be made compositions of elementary functions ($+, -, \\ge$). \n",
    "\n",
    "For instance, multiplication is repeated addition:"
   ]
  },
  {
   "cell_type": "code",
   "execution_count": null,
   "metadata": {
    "colab": {
     "base_uri": "https://localhost:8080/",
     "height": 34
    },
    "colab_type": "code",
    "executionInfo": {
     "elapsed": 1211,
     "status": "ok",
     "timestamp": 1595602284041,
     "user": {
      "displayName": "Matthieu Ranger",
      "photoUrl": "",
      "userId": "05160963434497794589"
     },
     "user_tz": 240
    },
    "id": "0P4YvMm9Qcp9",
    "outputId": "111689a6-4fb6-4fe0-fe66-2028f7f6b2fd"
   },
   "outputs": [
    {
     "data": {
      "text/plain": [
       "180"
      ]
     },
     "execution_count": 1,
     "metadata": {
      "tags": []
     },
     "output_type": "execute_result"
    }
   ],
   "source": [
    "def multiply(x, y):\n",
    "  res = 0\n",
    "  for i in range(y):\n",
    "    res += x\n",
    "  return res\n",
    "\n",
    "multiply(12, 15)"
   ]
  },
  {
   "cell_type": "markdown",
   "metadata": {
    "colab_type": "text",
    "id": "pTODFCIlT16D"
   },
   "source": [
    "This is pretty cumbersome, though. For instance if you wanted to do:\n",
    "\n",
    "$$-4 * 15$$\n",
    "\n",
    "you would need to decompose it as:\n",
    "\n",
    "$$-1 * 4 * 15$$\n",
    "\n",
    "(lets not get get bogged down by how to make this logic [compatible with real numbers](https://en.wikipedia.org/wiki/Construction_of_the_real_numbers#Construction_from_Cauchy_sequences))\n",
    "\n",
    "We can define exponentiation the same way:"
   ]
  },
  {
   "cell_type": "code",
   "execution_count": null,
   "metadata": {
    "colab": {
     "base_uri": "https://localhost:8080/",
     "height": 34
    },
    "colab_type": "code",
    "executionInfo": {
     "elapsed": 1176,
     "status": "ok",
     "timestamp": 1595602913798,
     "user": {
      "displayName": "Matthieu Ranger",
      "photoUrl": "",
      "userId": "05160963434497794589"
     },
     "user_tz": 240
    },
    "id": "FPibIsADV6ap",
    "outputId": "3575149c-a367-4780-f68f-086236dc6c99"
   },
   "outputs": [
    {
     "data": {
      "text/plain": [
       "65536"
      ]
     },
     "execution_count": 3,
     "metadata": {
      "tags": []
     },
     "output_type": "execute_result"
    }
   ],
   "source": [
    "def power(x, y):\n",
    "  res = 1\n",
    "  for i in range(y):\n",
    "    res *= x\n",
    "  return res\n",
    "\n",
    "power(2, 16)"
   ]
  },
  {
   "cell_type": "markdown",
   "metadata": {
    "colab_type": "text",
    "id": "N0OM2zl6sVi9"
   },
   "source": [
    "**Exercise:**\n",
    "\n",
    "Create division by the same method. Find a way to deal with remainders for fractional parts!"
   ]
  },
  {
   "cell_type": "code",
   "execution_count": null,
   "metadata": {
    "colab": {},
    "colab_type": "code",
    "id": "PXXD5x2PsaVk"
   },
   "outputs": [],
   "source": [
    "### FIXME FIXME\n",
    "def div(x, y):\n",
    "  res = 0\n",
    "  for i in range(y):\n",
    "    res -= x\n",
    "  return res\n",
    "\n",
    "div(12, 15)"
   ]
  },
  {
   "cell_type": "markdown",
   "metadata": {
    "colab_type": "text",
    "id": "JJSiphzJsoNH"
   },
   "source": [
    "**Exercise 2:** Raising to a negative power is equivalent to the inverse of the result. So we have:\n",
    "\n",
    "$$2^{-3} = 1/(2^3)$$\n",
    "\n",
    "Fix the `power` function above to make it work"
   ]
  },
  {
   "cell_type": "code",
   "execution_count": 1,
   "metadata": {
    "colab": {},
    "colab_type": "code",
    "id": "Zb543wUytBNb"
   },
   "outputs": [
    {
     "data": {
      "text/plain": [
       "65536"
      ]
     },
     "execution_count": 1,
     "metadata": {},
     "output_type": "execute_result"
    }
   ],
   "source": [
    "## FIXME FIXME\n",
    "def power(x, y):\n",
    "  res = 1\n",
    "  for i in range(y):\n",
    "    res *= x\n",
    "  return res\n",
    "\n",
    "power(2, 16)"
   ]
  },
  {
   "cell_type": "markdown",
   "metadata": {},
   "source": [
    "Decomposing complex functions into simpler parts make analyzing them easier. This will come in later on when we talk about derivatives and gradients.\n",
    "\n",
    "Also, generally, it's a good idea to try to break down complex problems into simpler subproblems that are manageable."
   ]
  },
  {
   "cell_type": "markdown",
   "metadata": {
    "colab_type": "text",
    "id": "oWn9e834Z_Lx"
   },
   "source": [
    "### Polynomials\n",
    "\n",
    "One type of function that's used and studied a lot is [polynomials](https://en.wikipedia.org/wiki/Polynomial). These are functions of the form:\n",
    "\n",
    "$$F(x) = a_1 + a_2x + a_3 x^2 + ... + a_nx^n$$\n",
    "\n",
    "Note the first term is $a_1x^0 = a_1$ because $x^0 = 1$ (why?).\n",
    "\n",
    "Polynomials are powerful especially for making models. Couple of facts about polynomials:\n",
    "\n",
    "- You can approximate [any continuous function](https://en.wikipedia.org/wiki/Stone%E2%80%93Weierstrass_theorem) with a polynomial. We'll go over this in the lecture on optimization & derivatives.\n",
    "\n",
    "- Finding the values of $x$ where $F(x) = 0$ is called \"solving\" the equation and is going to be very important later on. This is because if you find where it's equal to 0, you can just \"shift\" the result up ro down to analyze where it's equal to any particular number.\n",
    "\n",
    "For now we'll just note polynomials exist as a mathematical object and come back to them later."
   ]
  },
  {
   "cell_type": "markdown",
   "metadata": {
    "colab_type": "text",
    "id": "5sbzjx9KWcx2"
   },
   "source": [
    "# Functions as first-class objects\n",
    "\n",
    "For computers, a function is just another piece of data (we'll cover this in a further lecture). For instance, you can point a python variable to be equal to a function:"
   ]
  },
  {
   "cell_type": "code",
   "execution_count": 5,
   "metadata": {
    "colab": {
     "base_uri": "https://localhost:8080/",
     "height": 34
    },
    "colab_type": "code",
    "executionInfo": {
     "elapsed": 1003,
     "status": "ok",
     "timestamp": 1595870918693,
     "user": {
      "displayName": "Matthieu Ranger",
      "photoUrl": "",
      "userId": "05160963434497794589"
     },
     "user_tz": 240
    },
    "id": "NJftAmo5T9I4",
    "outputId": "8f24e35e-1f7a-4e42-9eac-df1b414c02c3"
   },
   "outputs": [
    {
     "data": {
      "text/plain": [
       "81"
      ]
     },
     "execution_count": 5,
     "metadata": {},
     "output_type": "execute_result"
    }
   ],
   "source": [
    "def square(x):\n",
    "  return x ** 2\n",
    "\n",
    "y = square\n",
    "\n",
    "y(9)\n"
   ]
  },
  {
   "cell_type": "markdown",
   "metadata": {
    "colab_type": "text",
    "id": "CmSl4ltbT_DJ"
   },
   "source": [
    "This means you can pass a function into another function:"
   ]
  },
  {
   "cell_type": "code",
   "execution_count": 6,
   "metadata": {
    "colab": {
     "base_uri": "https://localhost:8080/",
     "height": 34
    },
    "colab_type": "code",
    "executionInfo": {
     "elapsed": 379,
     "status": "ok",
     "timestamp": 1595871046813,
     "user": {
      "displayName": "Matthieu Ranger",
      "photoUrl": "",
      "userId": "05160963434497794589"
     },
     "user_tz": 240
    },
    "id": "xSXMg_jfUfYt",
    "outputId": "df11afc3-6662-4cf0-8a48-3d4bb0f63925"
   },
   "outputs": [
    {
     "data": {
      "text/plain": [
       "18"
      ]
     },
     "execution_count": 6,
     "metadata": {},
     "output_type": "execute_result"
    }
   ],
   "source": [
    "def apply_n_times(x, f, n):\n",
    "  return sum([f(x) for _ in range(n)])\n",
    "\n",
    "apply_n_times(3, square, 2)"
   ]
  },
  {
   "cell_type": "markdown",
   "metadata": {
    "colab_type": "text",
    "id": "-YBT1kDzUfgn"
   },
   "source": [
    "# Lambdas\n",
    "\n",
    "One compact representation of functions is called the [lambda](https://docs.python.org/3/tutorial/controlflow.html#lambda-expressions). It's a one line representation of a function and the basic idea of [lambda calculus](https://en.wikipedia.org/wiki/Lambda_calculus), a model of computers where function are the base of everything."
   ]
  },
  {
   "cell_type": "code",
   "execution_count": 7,
   "metadata": {
    "colab": {
     "base_uri": "https://localhost:8080/",
     "height": 52
    },
    "colab_type": "code",
    "executionInfo": {
     "elapsed": 487,
     "status": "ok",
     "timestamp": 1595871209180,
     "user": {
      "displayName": "Matthieu Ranger",
      "photoUrl": "",
      "userId": "05160963434497794589"
     },
     "user_tz": 240
    },
    "id": "Qpc_IpH5VWKV",
    "outputId": "9f24069a-6bce-4b68-d103-296dc9bb7054"
   },
   "outputs": [
    {
     "name": "stdout",
     "output_type": "stream",
     "text": [
      "81\n"
     ]
    },
    {
     "data": {
      "text/plain": [
       "54"
      ]
     },
     "execution_count": 7,
     "metadata": {},
     "output_type": "execute_result"
    }
   ],
   "source": [
    "# Syntax: left hand side is arguments, right hand side is return statement\n",
    "y = lambda x : x**2\n",
    "\n",
    "print(y(9))\n",
    "\n",
    "apply_n_times(3, lambda x : x**3, 2)"
   ]
  },
  {
   "cell_type": "markdown",
   "metadata": {
    "colab_type": "text",
    "id": "mDMA8zxwVj1G"
   },
   "source": [
    "**NOTE:** Lambdas are made to easily pass functions into other functions. If you want to use more complex lambdas, you should probably define a function instead."
   ]
  },
  {
   "cell_type": "markdown",
   "metadata": {
    "colab_type": "text",
    "id": "eoIrrQvauMJH"
   },
   "source": [
    "# Continuous Function\n",
    "\n",
    "A function is called **continuous** if it fits the following mathematical proprety:\n",
    "\n",
    "$$f(x_0) - \\epsilon < f(x) < f(x_0) + \\epsilon$$\n",
    "\n",
    "for any sufficiently small $\\epsilon$\n",
    "\n",
    "In english this means that continuous functions can only be defined if the input and output is in term of real numbers and have to be \"smooth\" (eg. there are no jumps or plateaus in the function):"
   ]
  },
  {
   "cell_type": "code",
   "execution_count": 2,
   "metadata": {
    "colab": {},
    "colab_type": "code",
    "id": "3CyJqKzouVDl"
   },
   "outputs": [
    {
     "data": {
      "image/png": "[encoded data removed]",
      "image/svg+xml": [
       "<?xml version=\"1.0\" encoding=\"utf-8\" standalone=\"no\"?>\n",
       "<!DOCTYPE svg PUBLIC \"-//W3C//DTD SVG 1.1//EN\"\n",
       "  \"http://www.w3.org/Graphics/SVG/1.1/DTD/svg11.dtd\">\n",
       "<!-- Created with matplotlib (https://matplotlib.org/) -->\n",
       "<svg height=\"231.84pt\" version=\"1.1\" viewBox=\"0 0 349.2 231.84\" width=\"349.2pt\" xmlns=\"http://www.w3.org/2000/svg\" xmlns:xlink=\"http://www.w3.org/1999/xlink\">\n",
       " <metadata>\n",
       "  <rdf:RDF xmlns:cc=\"http://creativecommons.org/ns#\" xmlns:dc=\"http://purl.org/dc/elements/1.1/\" xmlns:rdf=\"http://www.w3.org/1999/02/22-rdf-syntax-ns#\">\n",
       "   <cc:Work>\n",
       "    <dc:type rdf:resource=\"http://purl.org/dc/dcmitype/StillImage\"/>\n",
       "    <dc:date>2020-09-13T15:52:42.270586</dc:date>\n",
       "    <dc:format>image/svg+xml</dc:format>\n",
       "    <dc:creator>\n",
       "     <cc:Agent>\n",
       "      <dc:title>Matplotlib v3.3.1, https://matplotlib.org/</dc:title>\n",
       "     </cc:Agent>\n",
       "    </dc:creator>\n",
       "   </cc:Work>\n",
       "  </rdf:RDF>\n",
       " </metadata>\n",
       " <defs>\n",
       "  <style type=\"text/css\">*{stroke-linecap:butt;stroke-linejoin:round;}</style>\n",
       " </defs>\n",
       " <g id=\"figure_1\">\n",
       "  <g id=\"patch_1\">\n",
       "   <path d=\"M 0 231.84 \n",
       "L 349.2 231.84 \n",
       "L 349.2 0 \n",
       "L 0 0 \n",
       "z\n",
       "\" style=\"fill:none;\"/>\n",
       "  </g>\n",
       "  <g id=\"axes_1\">\n",
       "   <g id=\"patch_2\">\n",
       "    <path d=\"M 7.2 224.64 \n",
       "L 342 224.64 \n",
       "L 342 7.2 \n",
       "L 7.2 7.2 \n",
       "z\n",
       "\" style=\"fill:#ffffff;\"/>\n",
       "   </g>\n",
       "   <g id=\"matplotlib.axis_1\">\n",
       "    <g id=\"xtick_1\">\n",
       "     <g id=\"line2d_1\">\n",
       "      <defs>\n",
       "       <path d=\"M 0 0 \n",
       "L 0 3.5 \n",
       "\" id=\"m758c16fa01\" style=\"stroke:#000000;stroke-width:0.8;\"/>\n",
       "      </defs>\n",
       "      <g>\n",
       "       <use style=\"stroke:#000000;stroke-width:0.8;\" x=\"52.854545\" xlink:href=\"#m758c16fa01\" y=\"115.92\"/>\n",
       "      </g>\n",
       "     </g>\n",
       "     <g id=\"text_1\">\n",
       "      <!-- −4 -->\n",
       "      <g transform=\"translate(45.483452 130.518437)scale(0.1 -0.1)\">\n",
       "       <defs>\n",
       "        <path d=\"M 10.59375 35.5 \n",
       "L 73.1875 35.5 \n",
       "L 73.1875 27.203125 \n",
       "L 10.59375 27.203125 \n",
       "z\n",
       "\" id=\"DejaVuSans-8722\"/>\n",
       "        <path d=\"M 37.796875 64.3125 \n",
       "L 12.890625 25.390625 \n",
       "L 37.796875 25.390625 \n",
       "z\n",
       "M 35.203125 72.90625 \n",
       "L 47.609375 72.90625 \n",
       "L 47.609375 25.390625 \n",
       "L 58.015625 25.390625 \n",
       "L 58.015625 17.1875 \n",
       "L 47.609375 17.1875 \n",
       "L 47.609375 0 \n",
       "L 37.796875 0 \n",
       "L 37.796875 17.1875 \n",
       "L 4.890625 17.1875 \n",
       "L 4.890625 26.703125 \n",
       "z\n",
       "\" id=\"DejaVuSans-52\"/>\n",
       "       </defs>\n",
       "       <use xlink:href=\"#DejaVuSans-8722\"/>\n",
       "       <use x=\"83.789062\" xlink:href=\"#DejaVuSans-52\"/>\n",
       "      </g>\n",
       "     </g>\n",
       "    </g>\n",
       "    <g id=\"xtick_2\">\n",
       "     <g id=\"line2d_2\">\n",
       "      <g>\n",
       "       <use style=\"stroke:#000000;stroke-width:0.8;\" x=\"113.727273\" xlink:href=\"#m758c16fa01\" y=\"115.92\"/>\n",
       "      </g>\n",
       "     </g>\n",
       "     <g id=\"text_2\">\n",
       "      <!-- −2 -->\n",
       "      <g transform=\"translate(106.356179 130.518437)scale(0.1 -0.1)\">\n",
       "       <defs>\n",
       "        <path d=\"M 19.1875 8.296875 \n",
       "L 53.609375 8.296875 \n",
       "L 53.609375 0 \n",
       "L 7.328125 0 \n",
       "L 7.328125 8.296875 \n",
       "Q 12.9375 14.109375 22.625 23.890625 \n",
       "Q 32.328125 33.6875 34.8125 36.53125 \n",
       "Q 39.546875 41.84375 41.421875 45.53125 \n",
       "Q 43.3125 49.21875 43.3125 52.78125 \n",
       "Q 43.3125 58.59375 39.234375 62.25 \n",
       "Q 35.15625 65.921875 28.609375 65.921875 \n",
       "Q 23.96875 65.921875 18.8125 64.3125 \n",
       "Q 13.671875 62.703125 7.8125 59.421875 \n",
       "L 7.8125 69.390625 \n",
       "Q 13.765625 71.78125 18.9375 73 \n",
       "Q 24.125 74.21875 28.421875 74.21875 \n",
       "Q 39.75 74.21875 46.484375 68.546875 \n",
       "Q 53.21875 62.890625 53.21875 53.421875 \n",
       "Q 53.21875 48.921875 51.53125 44.890625 \n",
       "Q 49.859375 40.875 45.40625 35.40625 \n",
       "Q 44.1875 33.984375 37.640625 27.21875 \n",
       "Q 31.109375 20.453125 19.1875 8.296875 \n",
       "z\n",
       "\" id=\"DejaVuSans-50\"/>\n",
       "       </defs>\n",
       "       <use xlink:href=\"#DejaVuSans-8722\"/>\n",
       "       <use x=\"83.789062\" xlink:href=\"#DejaVuSans-50\"/>\n",
       "      </g>\n",
       "     </g>\n",
       "    </g>\n",
       "    <g id=\"xtick_3\">\n",
       "     <g id=\"line2d_3\">\n",
       "      <g>\n",
       "       <use style=\"stroke:#000000;stroke-width:0.8;\" x=\"174.6\" xlink:href=\"#m758c16fa01\" y=\"115.92\"/>\n",
       "      </g>\n",
       "     </g>\n",
       "     <g id=\"text_3\">\n",
       "      <!-- 0 -->\n",
       "      <g transform=\"translate(171.41875 130.518437)scale(0.1 -0.1)\">\n",
       "       <defs>\n",
       "        <path d=\"M 31.78125 66.40625 \n",
       "Q 24.171875 66.40625 20.328125 58.90625 \n",
       "Q 16.5 51.421875 16.5 36.375 \n",
       "Q 16.5 21.390625 20.328125 13.890625 \n",
       "Q 24.171875 6.390625 31.78125 6.390625 \n",
       "Q 39.453125 6.390625 43.28125 13.890625 \n",
       "Q 47.125 21.390625 47.125 36.375 \n",
       "Q 47.125 51.421875 43.28125 58.90625 \n",
       "Q 39.453125 66.40625 31.78125 66.40625 \n",
       "z\n",
       "M 31.78125 74.21875 \n",
       "Q 44.046875 74.21875 50.515625 64.515625 \n",
       "Q 56.984375 54.828125 56.984375 36.375 \n",
       "Q 56.984375 17.96875 50.515625 8.265625 \n",
       "Q 44.046875 -1.421875 31.78125 -1.421875 \n",
       "Q 19.53125 -1.421875 13.0625 8.265625 \n",
       "Q 6.59375 17.96875 6.59375 36.375 \n",
       "Q 6.59375 54.828125 13.0625 64.515625 \n",
       "Q 19.53125 74.21875 31.78125 74.21875 \n",
       "z\n",
       "\" id=\"DejaVuSans-48\"/>\n",
       "       </defs>\n",
       "       <use xlink:href=\"#DejaVuSans-48\"/>\n",
       "      </g>\n",
       "     </g>\n",
       "    </g>\n",
       "    <g id=\"xtick_4\">\n",
       "     <g id=\"line2d_4\">\n",
       "      <g>\n",
       "       <use style=\"stroke:#000000;stroke-width:0.8;\" x=\"235.472727\" xlink:href=\"#m758c16fa01\" y=\"115.92\"/>\n",
       "      </g>\n",
       "     </g>\n",
       "     <g id=\"text_4\">\n",
       "      <!-- 2 -->\n",
       "      <g transform=\"translate(232.291477 130.518437)scale(0.1 -0.1)\">\n",
       "       <use xlink:href=\"#DejaVuSans-50\"/>\n",
       "      </g>\n",
       "     </g>\n",
       "    </g>\n",
       "    <g id=\"xtick_5\">\n",
       "     <g id=\"line2d_5\">\n",
       "      <g>\n",
       "       <use style=\"stroke:#000000;stroke-width:0.8;\" x=\"296.345455\" xlink:href=\"#m758c16fa01\" y=\"115.92\"/>\n",
       "      </g>\n",
       "     </g>\n",
       "     <g id=\"text_5\">\n",
       "      <!-- 4 -->\n",
       "      <g transform=\"translate(293.164205 130.518437)scale(0.1 -0.1)\">\n",
       "       <use xlink:href=\"#DejaVuSans-52\"/>\n",
       "      </g>\n",
       "     </g>\n",
       "    </g>\n",
       "   </g>\n",
       "   <g id=\"matplotlib.axis_2\">\n",
       "    <g id=\"ytick_1\">\n",
       "     <g id=\"line2d_6\">\n",
       "      <defs>\n",
       "       <path d=\"M 0 0 \n",
       "L -3.5 0 \n",
       "\" id=\"md45892261c\" style=\"stroke:#000000;stroke-width:0.8;\"/>\n",
       "      </defs>\n",
       "      <g>\n",
       "       <use style=\"stroke:#000000;stroke-width:0.8;\" x=\"174.6\" xlink:href=\"#md45892261c\" y=\"214.757669\"/>\n",
       "      </g>\n",
       "     </g>\n",
       "     <g id=\"text_6\">\n",
       "      <!-- −1.00 -->\n",
       "      <g transform=\"translate(136.954687 218.556888)scale(0.1 -0.1)\">\n",
       "       <defs>\n",
       "        <path d=\"M 12.40625 8.296875 \n",
       "L 28.515625 8.296875 \n",
       "L 28.515625 63.921875 \n",
       "L 10.984375 60.40625 \n",
       "L 10.984375 69.390625 \n",
       "L 28.421875 72.90625 \n",
       "L 38.28125 72.90625 \n",
       "L 38.28125 8.296875 \n",
       "L 54.390625 8.296875 \n",
       "L 54.390625 0 \n",
       "L 12.40625 0 \n",
       "z\n",
       "\" id=\"DejaVuSans-49\"/>\n",
       "        <path d=\"M 10.6875 12.40625 \n",
       "L 21 12.40625 \n",
       "L 21 0 \n",
       "L 10.6875 0 \n",
       "z\n",
       "\" id=\"DejaVuSans-46\"/>\n",
       "       </defs>\n",
       "       <use xlink:href=\"#DejaVuSans-8722\"/>\n",
       "       <use x=\"83.789062\" xlink:href=\"#DejaVuSans-49\"/>\n",
       "       <use x=\"147.412109\" xlink:href=\"#DejaVuSans-46\"/>\n",
       "       <use x=\"179.199219\" xlink:href=\"#DejaVuSans-48\"/>\n",
       "       <use x=\"242.822266\" xlink:href=\"#DejaVuSans-48\"/>\n",
       "      </g>\n",
       "     </g>\n",
       "    </g>\n",
       "    <g id=\"ytick_2\">\n",
       "     <g id=\"line2d_7\">\n",
       "      <g>\n",
       "       <use style=\"stroke:#000000;stroke-width:0.8;\" x=\"174.6\" xlink:href=\"#md45892261c\" y=\"190.048252\"/>\n",
       "      </g>\n",
       "     </g>\n",
       "     <g id=\"text_7\">\n",
       "      <!-- −0.75 -->\n",
       "      <g transform=\"translate(136.954687 193.847471)scale(0.1 -0.1)\">\n",
       "       <defs>\n",
       "        <path d=\"M 8.203125 72.90625 \n",
       "L 55.078125 72.90625 \n",
       "L 55.078125 68.703125 \n",
       "L 28.609375 0 \n",
       "L 18.3125 0 \n",
       "L 43.21875 64.59375 \n",
       "L 8.203125 64.59375 \n",
       "z\n",
       "\" id=\"DejaVuSans-55\"/>\n",
       "        <path d=\"M 10.796875 72.90625 \n",
       "L 49.515625 72.90625 \n",
       "L 49.515625 64.59375 \n",
       "L 19.828125 64.59375 \n",
       "L 19.828125 46.734375 \n",
       "Q 21.96875 47.46875 24.109375 47.828125 \n",
       "Q 26.265625 48.1875 28.421875 48.1875 \n",
       "Q 40.625 48.1875 47.75 41.5 \n",
       "Q 54.890625 34.8125 54.890625 23.390625 \n",
       "Q 54.890625 11.625 47.5625 5.09375 \n",
       "Q 40.234375 -1.421875 26.90625 -1.421875 \n",
       "Q 22.3125 -1.421875 17.546875 -0.640625 \n",
       "Q 12.796875 0.140625 7.71875 1.703125 \n",
       "L 7.71875 11.625 \n",
       "Q 12.109375 9.234375 16.796875 8.0625 \n",
       "Q 21.484375 6.890625 26.703125 6.890625 \n",
       "Q 35.15625 6.890625 40.078125 11.328125 \n",
       "Q 45.015625 15.765625 45.015625 23.390625 \n",
       "Q 45.015625 31 40.078125 35.4375 \n",
       "Q 35.15625 39.890625 26.703125 39.890625 \n",
       "Q 22.75 39.890625 18.8125 39.015625 \n",
       "Q 14.890625 38.140625 10.796875 36.28125 \n",
       "z\n",
       "\" id=\"DejaVuSans-53\"/>\n",
       "       </defs>\n",
       "       <use xlink:href=\"#DejaVuSans-8722\"/>\n",
       "       <use x=\"83.789062\" xlink:href=\"#DejaVuSans-48\"/>\n",
       "       <use x=\"147.412109\" xlink:href=\"#DejaVuSans-46\"/>\n",
       "       <use x=\"179.199219\" xlink:href=\"#DejaVuSans-55\"/>\n",
       "       <use x=\"242.822266\" xlink:href=\"#DejaVuSans-53\"/>\n",
       "      </g>\n",
       "     </g>\n",
       "    </g>\n",
       "    <g id=\"ytick_3\">\n",
       "     <g id=\"line2d_8\">\n",
       "      <g>\n",
       "       <use style=\"stroke:#000000;stroke-width:0.8;\" x=\"174.6\" xlink:href=\"#md45892261c\" y=\"165.338835\"/>\n",
       "      </g>\n",
       "     </g>\n",
       "     <g id=\"text_8\">\n",
       "      <!-- −0.50 -->\n",
       "      <g transform=\"translate(136.954687 169.138053)scale(0.1 -0.1)\">\n",
       "       <use xlink:href=\"#DejaVuSans-8722\"/>\n",
       "       <use x=\"83.789062\" xlink:href=\"#DejaVuSans-48\"/>\n",
       "       <use x=\"147.412109\" xlink:href=\"#DejaVuSans-46\"/>\n",
       "       <use x=\"179.199219\" xlink:href=\"#DejaVuSans-53\"/>\n",
       "       <use x=\"242.822266\" xlink:href=\"#DejaVuSans-48\"/>\n",
       "      </g>\n",
       "     </g>\n",
       "    </g>\n",
       "    <g id=\"ytick_4\">\n",
       "     <g id=\"line2d_9\">\n",
       "      <g>\n",
       "       <use style=\"stroke:#000000;stroke-width:0.8;\" x=\"174.6\" xlink:href=\"#md45892261c\" y=\"140.629417\"/>\n",
       "      </g>\n",
       "     </g>\n",
       "     <g id=\"text_9\">\n",
       "      <!-- −0.25 -->\n",
       "      <g transform=\"translate(136.954687 144.428636)scale(0.1 -0.1)\">\n",
       "       <use xlink:href=\"#DejaVuSans-8722\"/>\n",
       "       <use x=\"83.789062\" xlink:href=\"#DejaVuSans-48\"/>\n",
       "       <use x=\"147.412109\" xlink:href=\"#DejaVuSans-46\"/>\n",
       "       <use x=\"179.199219\" xlink:href=\"#DejaVuSans-50\"/>\n",
       "       <use x=\"242.822266\" xlink:href=\"#DejaVuSans-53\"/>\n",
       "      </g>\n",
       "     </g>\n",
       "    </g>\n",
       "    <g id=\"ytick_5\">\n",
       "     <g id=\"line2d_10\">\n",
       "      <g>\n",
       "       <use style=\"stroke:#000000;stroke-width:0.8;\" x=\"174.6\" xlink:href=\"#md45892261c\" y=\"115.92\"/>\n",
       "      </g>\n",
       "     </g>\n",
       "     <g id=\"text_10\">\n",
       "      <!-- 0.00 -->\n",
       "      <g transform=\"translate(145.334375 119.719219)scale(0.1 -0.1)\">\n",
       "       <use xlink:href=\"#DejaVuSans-48\"/>\n",
       "       <use x=\"63.623047\" xlink:href=\"#DejaVuSans-46\"/>\n",
       "       <use x=\"95.410156\" xlink:href=\"#DejaVuSans-48\"/>\n",
       "       <use x=\"159.033203\" xlink:href=\"#DejaVuSans-48\"/>\n",
       "      </g>\n",
       "     </g>\n",
       "    </g>\n",
       "    <g id=\"ytick_6\">\n",
       "     <g id=\"line2d_11\">\n",
       "      <g>\n",
       "       <use style=\"stroke:#000000;stroke-width:0.8;\" x=\"174.6\" xlink:href=\"#md45892261c\" y=\"91.210583\"/>\n",
       "      </g>\n",
       "     </g>\n",
       "     <g id=\"text_11\">\n",
       "      <!-- 0.25 -->\n",
       "      <g transform=\"translate(145.334375 95.009801)scale(0.1 -0.1)\">\n",
       "       <use xlink:href=\"#DejaVuSans-48\"/>\n",
       "       <use x=\"63.623047\" xlink:href=\"#DejaVuSans-46\"/>\n",
       "       <use x=\"95.410156\" xlink:href=\"#DejaVuSans-50\"/>\n",
       "       <use x=\"159.033203\" xlink:href=\"#DejaVuSans-53\"/>\n",
       "      </g>\n",
       "     </g>\n",
       "    </g>\n",
       "    <g id=\"ytick_7\">\n",
       "     <g id=\"line2d_12\">\n",
       "      <g>\n",
       "       <use style=\"stroke:#000000;stroke-width:0.8;\" x=\"174.6\" xlink:href=\"#md45892261c\" y=\"66.501165\"/>\n",
       "      </g>\n",
       "     </g>\n",
       "     <g id=\"text_12\">\n",
       "      <!-- 0.50 -->\n",
       "      <g transform=\"translate(145.334375 70.300384)scale(0.1 -0.1)\">\n",
       "       <use xlink:href=\"#DejaVuSans-48\"/>\n",
       "       <use x=\"63.623047\" xlink:href=\"#DejaVuSans-46\"/>\n",
       "       <use x=\"95.410156\" xlink:href=\"#DejaVuSans-53\"/>\n",
       "       <use x=\"159.033203\" xlink:href=\"#DejaVuSans-48\"/>\n",
       "      </g>\n",
       "     </g>\n",
       "    </g>\n",
       "    <g id=\"ytick_8\">\n",
       "     <g id=\"line2d_13\">\n",
       "      <g>\n",
       "       <use style=\"stroke:#000000;stroke-width:0.8;\" x=\"174.6\" xlink:href=\"#md45892261c\" y=\"41.791748\"/>\n",
       "      </g>\n",
       "     </g>\n",
       "     <g id=\"text_13\">\n",
       "      <!-- 0.75 -->\n",
       "      <g transform=\"translate(145.334375 45.590967)scale(0.1 -0.1)\">\n",
       "       <use xlink:href=\"#DejaVuSans-48\"/>\n",
       "       <use x=\"63.623047\" xlink:href=\"#DejaVuSans-46\"/>\n",
       "       <use x=\"95.410156\" xlink:href=\"#DejaVuSans-55\"/>\n",
       "       <use x=\"159.033203\" xlink:href=\"#DejaVuSans-53\"/>\n",
       "      </g>\n",
       "     </g>\n",
       "    </g>\n",
       "    <g id=\"ytick_9\">\n",
       "     <g id=\"line2d_14\">\n",
       "      <g>\n",
       "       <use style=\"stroke:#000000;stroke-width:0.8;\" x=\"174.6\" xlink:href=\"#md45892261c\" y=\"17.082331\"/>\n",
       "      </g>\n",
       "     </g>\n",
       "     <g id=\"text_14\">\n",
       "      <!-- 1.00 -->\n",
       "      <g transform=\"translate(145.334375 20.88155)scale(0.1 -0.1)\">\n",
       "       <use xlink:href=\"#DejaVuSans-49\"/>\n",
       "       <use x=\"63.623047\" xlink:href=\"#DejaVuSans-46\"/>\n",
       "       <use x=\"95.410156\" xlink:href=\"#DejaVuSans-48\"/>\n",
       "       <use x=\"159.033203\" xlink:href=\"#DejaVuSans-48\"/>\n",
       "      </g>\n",
       "     </g>\n",
       "    </g>\n",
       "   </g>\n",
       "   <g id=\"line2d_15\">\n",
       "    <path clip-path=\"url(#p40636839b6)\" d=\"M 22.418182 21.14216 \n",
       "L 25.492562 18.798103 \n",
       "L 28.566942 17.444142 \n",
       "L 31.641322 17.09408 \n",
       "L 34.715702 17.751486 \n",
       "L 37.790083 19.409659 \n",
       "L 40.864463 22.051693 \n",
       "L 43.938843 25.650655 \n",
       "L 47.013223 30.169856 \n",
       "L 50.087603 35.563226 \n",
       "L 53.161983 41.775782 \n",
       "L 56.236364 48.744192 \n",
       "L 59.310744 56.397416 \n",
       "L 62.385124 64.657436 \n",
       "L 65.459504 73.440046 \n",
       "L 68.533884 82.655711 \n",
       "L 71.608264 92.210485 \n",
       "L 74.682645 102.006963 \n",
       "L 77.757025 111.945275 \n",
       "L 80.831405 121.924107 \n",
       "L 83.905785 131.84173 \n",
       "L 86.980165 141.597042 \n",
       "L 90.054545 151.090593 \n",
       "L 93.128926 160.225602 \n",
       "L 96.203306 168.908943 \n",
       "L 99.277686 177.052095 \n",
       "L 102.352066 184.572044 \n",
       "L 105.426446 191.392129 \n",
       "L 108.500826 197.442823 \n",
       "L 111.575207 202.662444 \n",
       "L 114.649587 206.99778 \n",
       "L 117.723967 210.404636 \n",
       "L 120.798347 212.84828 \n",
       "L 123.872727 214.303802 \n",
       "L 126.947107 214.756364 \n",
       "L 130.021488 214.201351 \n",
       "L 133.095868 212.644421 \n",
       "L 136.170248 210.101448 \n",
       "L 139.244628 206.598354 \n",
       "L 142.319008 202.170851 \n",
       "L 145.393388 196.864075 \n",
       "L 148.467769 190.732126 \n",
       "L 151.542149 183.837515 \n",
       "L 154.616529 176.250527 \n",
       "L 157.690909 168.048507 \n",
       "L 160.765289 159.315071 \n",
       "L 163.839669 150.139249 \n",
       "L 166.91405 140.614583 \n",
       "L 169.98843 130.838172 \n",
       "L 173.06281 120.90968 \n",
       "L 176.13719 110.93032 \n",
       "L 179.21157 101.001828 \n",
       "L 182.28595 91.225417 \n",
       "L 185.360331 81.700751 \n",
       "L 188.434711 72.524929 \n",
       "L 191.509091 63.791493 \n",
       "L 194.583471 55.589473 \n",
       "L 197.657851 48.002485 \n",
       "L 200.732231 41.107874 \n",
       "L 203.806612 34.975925 \n",
       "L 206.880992 29.669149 \n",
       "L 209.955372 25.241646 \n",
       "L 213.029752 21.738552 \n",
       "L 216.104132 19.195579 \n",
       "L 219.178512 17.638649 \n",
       "L 222.252893 17.083636 \n",
       "L 225.327273 17.536198 \n",
       "L 228.401653 18.99172 \n",
       "L 231.476033 21.435364 \n",
       "L 234.550413 24.84222 \n",
       "L 237.624793 29.177556 \n",
       "L 240.699174 34.397177 \n",
       "L 243.773554 40.447871 \n",
       "L 246.847934 47.267956 \n",
       "L 249.922314 54.787905 \n",
       "L 252.996694 62.931057 \n",
       "L 256.071074 71.614398 \n",
       "L 259.145455 80.749407 \n",
       "L 262.219835 90.242958 \n",
       "L 265.294215 99.99827 \n",
       "L 268.368595 109.915893 \n",
       "L 271.442975 119.894725 \n",
       "L 274.517355 129.833037 \n",
       "L 277.591736 139.629515 \n",
       "L 280.666116 149.184289 \n",
       "L 283.740496 158.399954 \n",
       "L 286.814876 167.182564 \n",
       "L 289.889256 175.442584 \n",
       "L 292.963636 183.095808 \n",
       "L 296.038017 190.064218 \n",
       "L 299.112397 196.276774 \n",
       "L 302.186777 201.670144 \n",
       "L 305.261157 206.189345 \n",
       "L 308.335537 209.788307 \n",
       "L 311.409917 212.430341 \n",
       "L 314.484298 214.088514 \n",
       "L 317.558678 214.74592 \n",
       "L 320.633058 214.395858 \n",
       "L 323.707438 213.041897 \n",
       "L 326.781818 210.69784 \n",
       "\" style=\"fill:none;stroke:#008000;stroke-linecap:square;stroke-width:1.5;\"/>\n",
       "   </g>\n",
       "   <g id=\"patch_3\">\n",
       "    <path d=\"M 174.6 224.64 \n",
       "L 174.6 7.2 \n",
       "\" style=\"fill:none;stroke:#000000;stroke-linecap:square;stroke-linejoin:miter;stroke-width:0.8;\"/>\n",
       "   </g>\n",
       "   <g id=\"patch_4\">\n",
       "    <path d=\"M 342 224.64 \n",
       "L 342 7.2 \n",
       "\" style=\"fill:none;\"/>\n",
       "   </g>\n",
       "   <g id=\"patch_5\">\n",
       "    <path d=\"M 7.2 115.92 \n",
       "L 342 115.92 \n",
       "\" style=\"fill:none;stroke:#000000;stroke-linecap:square;stroke-linejoin:miter;stroke-width:0.8;\"/>\n",
       "   </g>\n",
       "   <g id=\"patch_6\">\n",
       "    <path d=\"M 7.2 7.2 \n",
       "L 342 7.2 \n",
       "\" style=\"fill:none;\"/>\n",
       "   </g>\n",
       "  </g>\n",
       " </g>\n",
       " <defs>\n",
       "  <clipPath id=\"p40636839b6\">\n",
       "   <rect height=\"217.44\" width=\"334.8\" x=\"7.2\" y=\"7.2\"/>\n",
       "  </clipPath>\n",
       " </defs>\n",
       "</svg>\n"
      ],
      "text/plain": [
       "<Figure size 432x288 with 1 Axes>"
      ]
     },
     "metadata": {
      "needs_background": "light"
     },
     "output_type": "display_data"
    }
   ],
   "source": [
    "# plot sin(x)\n",
    "import matplotlib.pyplot as plt\n",
    "import numpy as np\n",
    "\n",
    "# 100 linearly spaced numbers\n",
    "x = np.linspace(-5,5,100)\n",
    "\n",
    "# the function, which is y = x^3 here\n",
    "y = np.sin(x)\n",
    "\n",
    "# setting the axes at the centre\n",
    "def make_fig():\n",
    "    fig = plt.figure()\n",
    "    ax = fig.add_subplot(1, 1, 1)\n",
    "    ax.spines['left'].set_position('center')\n",
    "    ax.spines['bottom'].set_position('center')\n",
    "    ax.spines['right'].set_color('none')\n",
    "    ax.spines['top'].set_color('none')\n",
    "    ax.xaxis.set_ticks_position('bottom')\n",
    "    ax.yaxis.set_ticks_position('left')\n",
    "    return fig, ax\n",
    "\n",
    "fig, ax = make_fig()\n",
    "\n",
    "# plot the function\n",
    "plt.plot(x,y, 'g')\n",
    "\n",
    "# show the plot\n",
    "plt.show()"
   ]
  },
  {
   "cell_type": "markdown",
   "metadata": {
    "colab_type": "text",
    "id": "XTETHKNyuSgM"
   },
   "source": [
    "On the other hand, any function in terms of integers will have \"jumps\" or \"kinks\" which break the continuity"
   ]
  },
  {
   "cell_type": "code",
   "execution_count": 21,
   "metadata": {
    "colab": {},
    "colab_type": "code",
    "id": "X3v27SMMuSyN"
   },
   "outputs": [
    {
     "data": {
      "text/plain": [
       "[<matplotlib.lines.Line2D at 0x11b4bec10>]"
      ]
     },
     "execution_count": 21,
     "metadata": {},
     "output_type": "execute_result"
    },
    {
     "data": {
      "image/png": "[encoded data removed]",
      "image/svg+xml": [
       "<?xml version=\"1.0\" encoding=\"utf-8\" standalone=\"no\"?>\n",
       "<!DOCTYPE svg PUBLIC \"-//W3C//DTD SVG 1.1//EN\"\n",
       "  \"http://www.w3.org/Graphics/SVG/1.1/DTD/svg11.dtd\">\n",
       "<!-- Created with matplotlib (https://matplotlib.org/) -->\n",
       "<svg height=\"231.84pt\" version=\"1.1\" viewBox=\"0 0 349.2 231.84\" width=\"349.2pt\" xmlns=\"http://www.w3.org/2000/svg\" xmlns:xlink=\"http://www.w3.org/1999/xlink\">\n",
       " <metadata>\n",
       "  <rdf:RDF xmlns:cc=\"http://creativecommons.org/ns#\" xmlns:dc=\"http://purl.org/dc/elements/1.1/\" xmlns:rdf=\"http://www.w3.org/1999/02/22-rdf-syntax-ns#\">\n",
       "   <cc:Work>\n",
       "    <dc:type rdf:resource=\"http://purl.org/dc/dcmitype/StillImage\"/>\n",
       "    <dc:date>2020-09-13T16:37:05.542603</dc:date>\n",
       "    <dc:format>image/svg+xml</dc:format>\n",
       "    <dc:creator>\n",
       "     <cc:Agent>\n",
       "      <dc:title>Matplotlib v3.3.1, https://matplotlib.org/</dc:title>\n",
       "     </cc:Agent>\n",
       "    </dc:creator>\n",
       "   </cc:Work>\n",
       "  </rdf:RDF>\n",
       " </metadata>\n",
       " <defs>\n",
       "  <style type=\"text/css\">*{stroke-linecap:butt;stroke-linejoin:round;}</style>\n",
       " </defs>\n",
       " <g id=\"figure_1\">\n",
       "  <g id=\"patch_1\">\n",
       "   <path d=\"M 0 231.84 \n",
       "L 349.2 231.84 \n",
       "L 349.2 0 \n",
       "L 0 0 \n",
       "z\n",
       "\" style=\"fill:none;\"/>\n",
       "  </g>\n",
       "  <g id=\"axes_1\">\n",
       "   <g id=\"patch_2\">\n",
       "    <path d=\"M 7.2 224.64 \n",
       "L 342 224.64 \n",
       "L 342 7.2 \n",
       "L 7.2 7.2 \n",
       "z\n",
       "\" style=\"fill:#ffffff;\"/>\n",
       "   </g>\n",
       "   <g id=\"matplotlib.axis_1\">\n",
       "    <g id=\"xtick_1\">\n",
       "     <g id=\"line2d_1\">\n",
       "      <defs>\n",
       "       <path d=\"M 0 0 \n",
       "L 0 3.5 \n",
       "\" id=\"m29889e88a5\" style=\"stroke:#000000;stroke-width:0.8;\"/>\n",
       "      </defs>\n",
       "      <g>\n",
       "       <use style=\"stroke:#000000;stroke-width:0.8;\" x=\"52.854545\" xlink:href=\"#m29889e88a5\" y=\"115.92\"/>\n",
       "      </g>\n",
       "     </g>\n",
       "     <g id=\"text_1\">\n",
       "      <!-- −4 -->\n",
       "      <g transform=\"translate(45.483452 130.518437)scale(0.1 -0.1)\">\n",
       "       <defs>\n",
       "        <path d=\"M 10.59375 35.5 \n",
       "L 73.1875 35.5 \n",
       "L 73.1875 27.203125 \n",
       "L 10.59375 27.203125 \n",
       "z\n",
       "\" id=\"DejaVuSans-8722\"/>\n",
       "        <path d=\"M 37.796875 64.3125 \n",
       "L 12.890625 25.390625 \n",
       "L 37.796875 25.390625 \n",
       "z\n",
       "M 35.203125 72.90625 \n",
       "L 47.609375 72.90625 \n",
       "L 47.609375 25.390625 \n",
       "L 58.015625 25.390625 \n",
       "L 58.015625 17.1875 \n",
       "L 47.609375 17.1875 \n",
       "L 47.609375 0 \n",
       "L 37.796875 0 \n",
       "L 37.796875 17.1875 \n",
       "L 4.890625 17.1875 \n",
       "L 4.890625 26.703125 \n",
       "z\n",
       "\" id=\"DejaVuSans-52\"/>\n",
       "       </defs>\n",
       "       <use xlink:href=\"#DejaVuSans-8722\"/>\n",
       "       <use x=\"83.789062\" xlink:href=\"#DejaVuSans-52\"/>\n",
       "      </g>\n",
       "     </g>\n",
       "    </g>\n",
       "    <g id=\"xtick_2\">\n",
       "     <g id=\"line2d_2\">\n",
       "      <g>\n",
       "       <use style=\"stroke:#000000;stroke-width:0.8;\" x=\"113.727273\" xlink:href=\"#m29889e88a5\" y=\"115.92\"/>\n",
       "      </g>\n",
       "     </g>\n",
       "     <g id=\"text_2\">\n",
       "      <!-- −2 -->\n",
       "      <g transform=\"translate(106.356179 130.518437)scale(0.1 -0.1)\">\n",
       "       <defs>\n",
       "        <path d=\"M 19.1875 8.296875 \n",
       "L 53.609375 8.296875 \n",
       "L 53.609375 0 \n",
       "L 7.328125 0 \n",
       "L 7.328125 8.296875 \n",
       "Q 12.9375 14.109375 22.625 23.890625 \n",
       "Q 32.328125 33.6875 34.8125 36.53125 \n",
       "Q 39.546875 41.84375 41.421875 45.53125 \n",
       "Q 43.3125 49.21875 43.3125 52.78125 \n",
       "Q 43.3125 58.59375 39.234375 62.25 \n",
       "Q 35.15625 65.921875 28.609375 65.921875 \n",
       "Q 23.96875 65.921875 18.8125 64.3125 \n",
       "Q 13.671875 62.703125 7.8125 59.421875 \n",
       "L 7.8125 69.390625 \n",
       "Q 13.765625 71.78125 18.9375 73 \n",
       "Q 24.125 74.21875 28.421875 74.21875 \n",
       "Q 39.75 74.21875 46.484375 68.546875 \n",
       "Q 53.21875 62.890625 53.21875 53.421875 \n",
       "Q 53.21875 48.921875 51.53125 44.890625 \n",
       "Q 49.859375 40.875 45.40625 35.40625 \n",
       "Q 44.1875 33.984375 37.640625 27.21875 \n",
       "Q 31.109375 20.453125 19.1875 8.296875 \n",
       "z\n",
       "\" id=\"DejaVuSans-50\"/>\n",
       "       </defs>\n",
       "       <use xlink:href=\"#DejaVuSans-8722\"/>\n",
       "       <use x=\"83.789062\" xlink:href=\"#DejaVuSans-50\"/>\n",
       "      </g>\n",
       "     </g>\n",
       "    </g>\n",
       "    <g id=\"xtick_3\">\n",
       "     <g id=\"line2d_3\">\n",
       "      <g>\n",
       "       <use style=\"stroke:#000000;stroke-width:0.8;\" x=\"174.6\" xlink:href=\"#m29889e88a5\" y=\"115.92\"/>\n",
       "      </g>\n",
       "     </g>\n",
       "     <g id=\"text_3\">\n",
       "      <!-- 0 -->\n",
       "      <g transform=\"translate(171.41875 130.518437)scale(0.1 -0.1)\">\n",
       "       <defs>\n",
       "        <path d=\"M 31.78125 66.40625 \n",
       "Q 24.171875 66.40625 20.328125 58.90625 \n",
       "Q 16.5 51.421875 16.5 36.375 \n",
       "Q 16.5 21.390625 20.328125 13.890625 \n",
       "Q 24.171875 6.390625 31.78125 6.390625 \n",
       "Q 39.453125 6.390625 43.28125 13.890625 \n",
       "Q 47.125 21.390625 47.125 36.375 \n",
       "Q 47.125 51.421875 43.28125 58.90625 \n",
       "Q 39.453125 66.40625 31.78125 66.40625 \n",
       "z\n",
       "M 31.78125 74.21875 \n",
       "Q 44.046875 74.21875 50.515625 64.515625 \n",
       "Q 56.984375 54.828125 56.984375 36.375 \n",
       "Q 56.984375 17.96875 50.515625 8.265625 \n",
       "Q 44.046875 -1.421875 31.78125 -1.421875 \n",
       "Q 19.53125 -1.421875 13.0625 8.265625 \n",
       "Q 6.59375 17.96875 6.59375 36.375 \n",
       "Q 6.59375 54.828125 13.0625 64.515625 \n",
       "Q 19.53125 74.21875 31.78125 74.21875 \n",
       "z\n",
       "\" id=\"DejaVuSans-48\"/>\n",
       "       </defs>\n",
       "       <use xlink:href=\"#DejaVuSans-48\"/>\n",
       "      </g>\n",
       "     </g>\n",
       "    </g>\n",
       "    <g id=\"xtick_4\">\n",
       "     <g id=\"line2d_4\">\n",
       "      <g>\n",
       "       <use style=\"stroke:#000000;stroke-width:0.8;\" x=\"235.472727\" xlink:href=\"#m29889e88a5\" y=\"115.92\"/>\n",
       "      </g>\n",
       "     </g>\n",
       "     <g id=\"text_4\">\n",
       "      <!-- 2 -->\n",
       "      <g transform=\"translate(232.291477 130.518437)scale(0.1 -0.1)\">\n",
       "       <use xlink:href=\"#DejaVuSans-50\"/>\n",
       "      </g>\n",
       "     </g>\n",
       "    </g>\n",
       "    <g id=\"xtick_5\">\n",
       "     <g id=\"line2d_5\">\n",
       "      <g>\n",
       "       <use style=\"stroke:#000000;stroke-width:0.8;\" x=\"296.345455\" xlink:href=\"#m29889e88a5\" y=\"115.92\"/>\n",
       "      </g>\n",
       "     </g>\n",
       "     <g id=\"text_5\">\n",
       "      <!-- 4 -->\n",
       "      <g transform=\"translate(293.164205 130.518437)scale(0.1 -0.1)\">\n",
       "       <use xlink:href=\"#DejaVuSans-52\"/>\n",
       "      </g>\n",
       "     </g>\n",
       "    </g>\n",
       "   </g>\n",
       "   <g id=\"matplotlib.axis_2\">\n",
       "    <g id=\"ytick_1\">\n",
       "     <g id=\"line2d_6\">\n",
       "      <defs>\n",
       "       <path d=\"M 0 0 \n",
       "L -3.5 0 \n",
       "\" id=\"m8366242916\" style=\"stroke:#000000;stroke-width:0.8;\"/>\n",
       "      </defs>\n",
       "      <g>\n",
       "       <use style=\"stroke:#000000;stroke-width:0.8;\" x=\"174.6\" xlink:href=\"#m8366242916\" y=\"207.153566\"/>\n",
       "      </g>\n",
       "     </g>\n",
       "     <g id=\"text_6\">\n",
       "      <!-- −6 -->\n",
       "      <g transform=\"translate(152.857812 210.952785)scale(0.1 -0.1)\">\n",
       "       <defs>\n",
       "        <path d=\"M 33.015625 40.375 \n",
       "Q 26.375 40.375 22.484375 35.828125 \n",
       "Q 18.609375 31.296875 18.609375 23.390625 \n",
       "Q 18.609375 15.53125 22.484375 10.953125 \n",
       "Q 26.375 6.390625 33.015625 6.390625 \n",
       "Q 39.65625 6.390625 43.53125 10.953125 \n",
       "Q 47.40625 15.53125 47.40625 23.390625 \n",
       "Q 47.40625 31.296875 43.53125 35.828125 \n",
       "Q 39.65625 40.375 33.015625 40.375 \n",
       "z\n",
       "M 52.59375 71.296875 \n",
       "L 52.59375 62.3125 \n",
       "Q 48.875 64.0625 45.09375 64.984375 \n",
       "Q 41.3125 65.921875 37.59375 65.921875 \n",
       "Q 27.828125 65.921875 22.671875 59.328125 \n",
       "Q 17.53125 52.734375 16.796875 39.40625 \n",
       "Q 19.671875 43.65625 24.015625 45.921875 \n",
       "Q 28.375 48.1875 33.59375 48.1875 \n",
       "Q 44.578125 48.1875 50.953125 41.515625 \n",
       "Q 57.328125 34.859375 57.328125 23.390625 \n",
       "Q 57.328125 12.15625 50.6875 5.359375 \n",
       "Q 44.046875 -1.421875 33.015625 -1.421875 \n",
       "Q 20.359375 -1.421875 13.671875 8.265625 \n",
       "Q 6.984375 17.96875 6.984375 36.375 \n",
       "Q 6.984375 53.65625 15.1875 63.9375 \n",
       "Q 23.390625 74.21875 37.203125 74.21875 \n",
       "Q 40.921875 74.21875 44.703125 73.484375 \n",
       "Q 48.484375 72.75 52.59375 71.296875 \n",
       "z\n",
       "\" id=\"DejaVuSans-54\"/>\n",
       "       </defs>\n",
       "       <use xlink:href=\"#DejaVuSans-8722\"/>\n",
       "       <use x=\"83.789062\" xlink:href=\"#DejaVuSans-54\"/>\n",
       "      </g>\n",
       "     </g>\n",
       "    </g>\n",
       "    <g id=\"ytick_2\">\n",
       "     <g id=\"line2d_7\">\n",
       "      <g>\n",
       "       <use style=\"stroke:#000000;stroke-width:0.8;\" x=\"174.6\" xlink:href=\"#m8366242916\" y=\"176.742378\"/>\n",
       "      </g>\n",
       "     </g>\n",
       "     <g id=\"text_7\">\n",
       "      <!-- −4 -->\n",
       "      <g transform=\"translate(152.857812 180.541596)scale(0.1 -0.1)\">\n",
       "       <use xlink:href=\"#DejaVuSans-8722\"/>\n",
       "       <use x=\"83.789062\" xlink:href=\"#DejaVuSans-52\"/>\n",
       "      </g>\n",
       "     </g>\n",
       "    </g>\n",
       "    <g id=\"ytick_3\">\n",
       "     <g id=\"line2d_8\">\n",
       "      <g>\n",
       "       <use style=\"stroke:#000000;stroke-width:0.8;\" x=\"174.6\" xlink:href=\"#m8366242916\" y=\"146.331189\"/>\n",
       "      </g>\n",
       "     </g>\n",
       "     <g id=\"text_8\">\n",
       "      <!-- −2 -->\n",
       "      <g transform=\"translate(152.857812 150.130408)scale(0.1 -0.1)\">\n",
       "       <use xlink:href=\"#DejaVuSans-8722\"/>\n",
       "       <use x=\"83.789062\" xlink:href=\"#DejaVuSans-50\"/>\n",
       "      </g>\n",
       "     </g>\n",
       "    </g>\n",
       "    <g id=\"ytick_4\">\n",
       "     <g id=\"line2d_9\">\n",
       "      <g>\n",
       "       <use style=\"stroke:#000000;stroke-width:0.8;\" x=\"174.6\" xlink:href=\"#m8366242916\" y=\"115.92\"/>\n",
       "      </g>\n",
       "     </g>\n",
       "     <g id=\"text_9\">\n",
       "      <!-- 0 -->\n",
       "      <g transform=\"translate(161.2375 119.719219)scale(0.1 -0.1)\">\n",
       "       <use xlink:href=\"#DejaVuSans-48\"/>\n",
       "      </g>\n",
       "     </g>\n",
       "    </g>\n",
       "    <g id=\"ytick_5\">\n",
       "     <g id=\"line2d_10\">\n",
       "      <g>\n",
       "       <use style=\"stroke:#000000;stroke-width:0.8;\" x=\"174.6\" xlink:href=\"#m8366242916\" y=\"85.508811\"/>\n",
       "      </g>\n",
       "     </g>\n",
       "     <g id=\"text_10\">\n",
       "      <!-- 2 -->\n",
       "      <g transform=\"translate(161.2375 89.30803)scale(0.1 -0.1)\">\n",
       "       <use xlink:href=\"#DejaVuSans-50\"/>\n",
       "      </g>\n",
       "     </g>\n",
       "    </g>\n",
       "    <g id=\"ytick_6\">\n",
       "     <g id=\"line2d_11\">\n",
       "      <g>\n",
       "       <use style=\"stroke:#000000;stroke-width:0.8;\" x=\"174.6\" xlink:href=\"#m8366242916\" y=\"55.097622\"/>\n",
       "      </g>\n",
       "     </g>\n",
       "     <g id=\"text_11\">\n",
       "      <!-- 4 -->\n",
       "      <g transform=\"translate(161.2375 58.896841)scale(0.1 -0.1)\">\n",
       "       <use xlink:href=\"#DejaVuSans-52\"/>\n",
       "      </g>\n",
       "     </g>\n",
       "    </g>\n",
       "    <g id=\"ytick_7\">\n",
       "     <g id=\"line2d_12\">\n",
       "      <g>\n",
       "       <use style=\"stroke:#000000;stroke-width:0.8;\" x=\"174.6\" xlink:href=\"#m8366242916\" y=\"24.686434\"/>\n",
       "      </g>\n",
       "     </g>\n",
       "     <g id=\"text_12\">\n",
       "      <!-- 6 -->\n",
       "      <g transform=\"translate(161.2375 28.485652)scale(0.1 -0.1)\">\n",
       "       <use xlink:href=\"#DejaVuSans-54\"/>\n",
       "      </g>\n",
       "     </g>\n",
       "    </g>\n",
       "   </g>\n",
       "   <g id=\"line2d_13\">\n",
       "    <path clip-path=\"url(#p97c1afab53)\" d=\"M 22.418182 214.756364 \n",
       "L 25.492562 214.295588 \n",
       "L 28.566942 213.834812 \n",
       "L 31.641322 213.374037 \n",
       "L 34.715702 212.913261 \n",
       "L 37.790083 212.452486 \n",
       "L 40.864463 211.99171 \n",
       "L 43.938843 211.530935 \n",
       "L 47.013223 211.070159 \n",
       "L 50.087603 210.609383 \n",
       "L 53.161983 194.943013 \n",
       "L 56.236364 194.482238 \n",
       "L 59.310744 194.021462 \n",
       "L 62.385124 193.560687 \n",
       "L 65.459504 193.099911 \n",
       "L 68.533884 192.639135 \n",
       "L 71.608264 192.17836 \n",
       "L 74.682645 191.717584 \n",
       "L 77.757025 191.256809 \n",
       "L 80.831405 190.796033 \n",
       "L 83.905785 175.129663 \n",
       "L 86.980165 174.668887 \n",
       "L 90.054545 174.208112 \n",
       "L 93.128926 173.747336 \n",
       "L 96.203306 173.286561 \n",
       "L 99.277686 172.825785 \n",
       "L 102.352066 172.36501 \n",
       "L 105.426446 171.904234 \n",
       "L 108.500826 171.443458 \n",
       "L 111.575207 170.982683 \n",
       "L 114.649587 155.316313 \n",
       "L 117.723967 154.855537 \n",
       "L 120.798347 154.394762 \n",
       "L 123.872727 153.933986 \n",
       "L 126.947107 153.47321 \n",
       "L 130.021488 153.012435 \n",
       "L 133.095868 152.551659 \n",
       "L 136.170248 152.090884 \n",
       "L 139.244628 151.630108 \n",
       "L 142.319008 151.169332 \n",
       "L 145.393388 135.502962 \n",
       "L 148.467769 135.042187 \n",
       "L 151.542149 134.581411 \n",
       "L 154.616529 134.120636 \n",
       "L 157.690909 133.65986 \n",
       "L 160.765289 133.199085 \n",
       "L 163.839669 132.738309 \n",
       "L 166.91405 132.277533 \n",
       "L 169.98843 131.816758 \n",
       "L 173.06281 131.355982 \n",
       "L 176.13719 115.689612 \n",
       "L 179.21157 115.228837 \n",
       "L 182.28595 114.768061 \n",
       "L 185.360331 114.307285 \n",
       "L 188.434711 113.84651 \n",
       "L 191.509091 113.385734 \n",
       "L 194.583471 112.924959 \n",
       "L 197.657851 112.464183 \n",
       "L 200.732231 112.003408 \n",
       "L 203.806612 111.542632 \n",
       "L 206.880992 95.876262 \n",
       "L 209.955372 95.415486 \n",
       "L 213.029752 94.954711 \n",
       "L 216.104132 94.493935 \n",
       "L 219.178512 94.03316 \n",
       "L 222.252893 93.572384 \n",
       "L 225.327273 93.111608 \n",
       "L 228.401653 92.650833 \n",
       "L 231.476033 92.190057 \n",
       "L 234.550413 91.729282 \n",
       "L 237.624793 76.062912 \n",
       "L 240.699174 75.602136 \n",
       "L 243.773554 75.14136 \n",
       "L 246.847934 74.680585 \n",
       "L 249.922314 74.219809 \n",
       "L 252.996694 73.759034 \n",
       "L 256.071074 73.298258 \n",
       "L 259.145455 72.837483 \n",
       "L 262.219835 72.376707 \n",
       "L 265.294215 71.915931 \n",
       "L 268.368595 56.249561 \n",
       "L 271.442975 55.788786 \n",
       "L 274.517355 55.32801 \n",
       "L 277.591736 54.867235 \n",
       "L 280.666116 54.406459 \n",
       "L 283.740496 53.945683 \n",
       "L 286.814876 53.484908 \n",
       "L 289.889256 53.024132 \n",
       "L 292.963636 52.563357 \n",
       "L 296.038017 52.102581 \n",
       "L 299.112397 36.436211 \n",
       "L 302.186777 35.975435 \n",
       "L 305.261157 35.51466 \n",
       "L 308.335537 35.053884 \n",
       "L 311.409917 34.593109 \n",
       "L 314.484298 34.132333 \n",
       "L 317.558678 33.671558 \n",
       "L 320.633058 33.210782 \n",
       "L 323.707438 32.750006 \n",
       "L 326.781818 17.083636 \n",
       "\" style=\"fill:none;stroke:#008000;stroke-linecap:square;stroke-width:1.5;\"/>\n",
       "   </g>\n",
       "   <g id=\"patch_3\">\n",
       "    <path d=\"M 174.6 224.64 \n",
       "L 174.6 7.2 \n",
       "\" style=\"fill:none;stroke:#000000;stroke-linecap:square;stroke-linejoin:miter;stroke-width:0.8;\"/>\n",
       "   </g>\n",
       "   <g id=\"patch_4\">\n",
       "    <path d=\"M 342 224.64 \n",
       "L 342 7.2 \n",
       "\" style=\"fill:none;\"/>\n",
       "   </g>\n",
       "   <g id=\"patch_5\">\n",
       "    <path d=\"M 7.2 115.92 \n",
       "L 342 115.92 \n",
       "\" style=\"fill:none;stroke:#000000;stroke-linecap:square;stroke-linejoin:miter;stroke-width:0.8;\"/>\n",
       "   </g>\n",
       "   <g id=\"patch_6\">\n",
       "    <path d=\"M 7.2 7.2 \n",
       "L 342 7.2 \n",
       "\" style=\"fill:none;\"/>\n",
       "   </g>\n",
       "  </g>\n",
       " </g>\n",
       " <defs>\n",
       "  <clipPath id=\"p97c1afab53\">\n",
       "   <rect height=\"217.44\" width=\"334.8\" x=\"7.2\" y=\"7.2\"/>\n",
       "  </clipPath>\n",
       " </defs>\n",
       "</svg>\n"
      ],
      "text/plain": [
       "<Figure size 432x288 with 1 Axes>"
      ]
     },
     "metadata": {
      "needs_background": "light"
     },
     "output_type": "display_data"
    }
   ],
   "source": [
    "# Lazy trick: def fn and call on one line\n",
    "y = ( lambda a : 0.3 * a + np.floor(a) )(x)\n",
    "\n",
    "# plot the function\n",
    "fig, ax = make_fig()\n",
    "plt.plot(x,y, 'g')"
   ]
  },
  {
   "cell_type": "markdown",
   "metadata": {},
   "source": [
    "Here, continuity is broken at the kinks in the function.\n",
    "\n",
    "Continuous functions have a lot of nice propreties. Here are a few:\n",
    "\n",
    "### Derivatives\n",
    "\n",
    "Derivatives, integrals and gradients are only defined on continuous functions. We'll get to those later in the course\n",
    "\n",
    "### Intermediate Value Theorem\n",
    "\n",
    "If a continuous function outputs $y_1$ and $y_2$ then it can output all values between $y_1$ and $y_2$ (they're \"linked\" by the continuity)\n",
    "\n",
    "### Extreme Value Theorem\n",
    "\n",
    "Suppose that $f$ is a function which is continuous on the closed interval $[a, b]$. Then there exist real numbers $c$ and $d$ in $[a, b]$ such that\n",
    "\n",
    "- $f$ has a maximum value at $x = c$ and\n",
    "- $f$ has a minimum value at $x = d$. \n",
    "\n",
    "### Continuous Function composition\n",
    "\n",
    "- The sum, difference, and product of two continuous functions are each continuous functions. \n",
    "\n",
    "    - All polynomial functions are continuous. (They're sums of continuous functions)\n",
    "\n",
    "- The quotient of two continuous functions is continuous where it is defined. (It won't be defined when the denominator is zero.) \n",
    "\n",
    "- The composition of two continuous functions is continuous. \n",
    "\n",
    "    - This implies composition of $n$ continuous functions is continuous\n",
    "\n",
    "So, for example, the square root function is continuous, so the square root of a continuous function is another continuous function.\n",
    "\n",
    "- Functions inverse to continuous functions are continuous. "
   ]
  },
  {
   "cell_type": "markdown",
   "metadata": {
    "colab_type": "text",
    "id": "0tCxuP0JutUA"
   },
   "source": [
    "# Function Inverses\n",
    "\n",
    "The **inverse** of a function is a functions that reverses what it does and produces the input from it's output. For instance, a function $g(x)$ is the inverse of a function $f(x)$ if:\n",
    "\n",
    "$$g(f(x)) = x$$\n",
    "\n",
    "We generally call the inverse of $f(x)$ as $f^{-1}(x)$. We say this because:\n",
    "\n",
    "$$ 1/x = x^{-1} $$"
   ]
  },
  {
   "cell_type": "markdown",
   "metadata": {},
   "source": [
    "### Some important inverses:\n",
    "\n",
    "- The `log` is the inverse of the exponent `exp`. This implies that $ln(e^x) = x$\n",
    "\n",
    "Because exponentiation is repeated multiplication, $log$ reverses it so if:\n",
    "\n",
    "$$f(x) = g(x) / h(x)$$\n",
    "\n",
    "then:\n",
    "\n",
    "$$ln(f(x)) = ln(g(x) / h(x)) = ln(g(x)) - ln(h(x))$$\n",
    "\n",
    "The $log$ \"reversed\" the divisions into substractions (it also reverses multiplications into additions).\n",
    "\n",
    "- Division is the inverse of multiplication. So $x \\cdot (1/x) = 1$"
   ]
  },
  {
   "cell_type": "markdown",
   "metadata": {
    "colab_type": "text",
    "id": "DWmzXZsBbnK_"
   },
   "source": [
    "# Fixed Points\n",
    "\n",
    "A **Fixed Point** in a function is a value where $f(x) = x$. So if you iterate the function $f(f(f(...f(x)))) = x$\n",
    "\n",
    "All points on the f(x) = x line are fixed points\n",
    "\n",
    "![](https://upload.wikimedia.org/wikipedia/commons/thumb/2/20/Fixed_point_example.svg/1024px-Fixed_point_example.svg.png)"
   ]
  },
  {
   "cell_type": "code",
   "execution_count": 11,
   "metadata": {
    "colab": {},
    "colab_type": "code",
    "id": "V6j0Z6RUDp-z"
   },
   "outputs": [
    {
     "name": "stdout",
     "output_type": "stream",
     "text": [
      "2\n",
      "2\n",
      "2\n",
      "2\n",
      "2\n"
     ]
    }
   ],
   "source": [
    "f = lambda x : 4 - 3 * x + x ** 2\n",
    "\n",
    "x = 2\n",
    "print(f(x))\n",
    "print(f(f(x)))\n",
    "print(f(f(f(x))))\n",
    "print(f(f(f(f(x)))))\n",
    "print(f(f(f(f(f((x)))))))"
   ]
  },
  {
   "cell_type": "markdown",
   "metadata": {},
   "source": [
    "### Attractor\n",
    "\n",
    "A fixed point is said to be an attractor if the sequence\n",
    "\n",
    "$$x, f(x), f(f(x)), ..., f^n(x)$$\n",
    "\n",
    "converges to some fixed value"
   ]
  },
  {
   "cell_type": "code",
   "execution_count": 16,
   "metadata": {},
   "outputs": [
    {
     "name": "stdout",
     "output_type": "stream",
     "text": [
      "-0.4161468365471424\n",
      "0.9146533258523714\n",
      "0.6100652997429745\n",
      "0.8196106080000904\n",
      "0.6825058578960018\n",
      "0.7759946131215992\n",
      "0.7137247340083882\n",
      "0.7559287135747029\n",
      "0.7276347923146813\n",
      "0.7467496017309729\n"
     ]
    }
   ],
   "source": [
    "import numpy as np\n",
    "\n",
    "f = lambda x : np.cos(x)\n",
    "\n",
    "x = 2\n",
    "for i in range(10):\n",
    "    x = f(x)\n",
    "    print(x)"
   ]
  },
  {
   "cell_type": "markdown",
   "metadata": {
    "colab": {},
    "colab_type": "code",
    "id": "x6K_lNMSAw08"
   },
   "source": [
    "A last example would be where `\"\"` is a fixed point in `lambda x : x[:-1]`"
   ]
  },
  {
   "cell_type": "code",
   "execution_count": null,
   "metadata": {},
   "outputs": [],
   "source": []
  }
 ],
 "metadata": {
  "colab": {
   "collapsed_sections": [],
   "name": "Math Functions.ipynb",
   "provenance": []
  },
  "kernelspec": {
   "display_name": "Python 3",
   "language": "python",
   "name": "python3"
  },
  "language_info": {
   "codemirror_mode": {
    "name": "ipython",
    "version": 3
   },
   "file_extension": ".py",
   "mimetype": "text/x-python",
   "name": "python",
   "nbconvert_exporter": "python",
   "pygments_lexer": "ipython3",
   "version": "3.8.3"
  }
 },
 "nbformat": 4,
 "nbformat_minor": 1
}
